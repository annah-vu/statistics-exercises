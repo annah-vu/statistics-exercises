{
 "cells": [
  {
   "cell_type": "markdown",
   "metadata": {},
   "source": [
    "Hypothesis Testing and T Test Exercises"
   ]
  },
  {
   "cell_type": "code",
   "execution_count": 50,
   "metadata": {},
   "outputs": [],
   "source": [
    "from math import sqrt\n",
    "from scipy import stats\n",
    "\n",
    "%matplotlib inline\n",
    "import matplotlib.pyplot as plt\n",
    "import numpy as np\n",
    "import pandas as pd\n",
    "from pydataset import data"
   ]
  },
  {
   "cell_type": "raw",
   "metadata": {},
   "source": [
    "For each of the following questions, formulate a null and alternative hypothesis (be as specific as you can be), then give an example of what a true positive, true negative, type I and type II errors would look like. \n",
    "Note that some of the questions are intentionally phrased in a vague way. It is your job to reword these as more precise questions that could be tested."
   ]
  },
  {
   "cell_type": "raw",
   "metadata": {},
   "source": [
    "\n",
    "#1.) Has the network latency gone up since we switched internet service providers?\n",
    "H0: Network latency has stayed the same since we switched providers.\n",
    "Ha: Network latency has gone up since we switched providers.\n",
    "\n",
    "True Positive: We reject the null hypothesis, and network latency has actually increased.\n",
    "\n",
    "True Negative: We fail to reject network latency has stayed the same, and network latency has stayed the same. \n",
    "\t\n",
    "Type 1 Error: Network latency stayed the same, but we said that it has gone up.\n",
    "Type 2 Error: Network latency increased, but we said that it stayed the same. \n"
   ]
  },
  {
   "cell_type": "raw",
   "metadata": {},
   "source": [
    "\n",
    "#2.) Is the website redesign any good?\n",
    "\tH0: The website redesign made no change\n",
    "\tHa: The website redesign is better than the original, traffic has increased.\n",
    "\t\n",
    "True Positive: The redesign is better than the original, and it really is.\n",
    "True Negative: The website redesign made no change, and it really didn’t. \n",
    "Type 1 Error: The website redesign made no change, but we said that it is better.\n",
    "Type 2 Error: The website redesign is better, but we said there was no change.\n",
    "\n"
   ]
  },
  {
   "cell_type": "raw",
   "metadata": {},
   "source": [
    "#3.) Is our television ad driving more sales?\n",
    "H0: our sales have remained the same with the ad.\n",
    "Ha: our sales have increased since the ad. \n",
    "True Positive: We say the ad has increased our sales, and it did.\n",
    "True Negative: We say sales haven’t changed, because they haven’t.\n",
    "Type 1 Error: Our sales stayed the same, but we said the ad drove more sales.\n",
    "Type 2 Error: Our sales have increased with the ad, but we said that it didn’t. "
   ]
  },
  {
   "cell_type": "markdown",
   "metadata": {},
   "source": [
    "Ho: On average, there is no difference in salaries between employees in the finance department and employees in the marketing department. \n",
    "Ha: There is a difference in salaries between employees in the finance department and the employees in the marketing department. \n",
    "\n",
    "Ho: There is no difference in number of employees in the finance dept and employees \n",
    "Ha: There is a difference in number of employees in the finance dept and employees.\n",
    "\n"
   ]
  },
  {
   "cell_type": "markdown",
   "metadata": {},
   "source": [
    "# #T Test Exercises\n"
   ]
  },
  {
   "cell_type": "raw",
   "metadata": {},
   "source": [
    "#1.) Ace Realty wants to determine whether the average time it takes to sell homes is different for its two offices. A sample of 40 sales from office #1 revealed a mean of 90 days and a standard deviation of 15 days. A sample of 50 sales from office #2 revealed a mean of 100 days and a standard deviation of 20 days. Use a .05 level of significance."
   ]
  },
  {
   "cell_type": "raw",
   "metadata": {},
   "source": [
    "Ho: There is no difference in sales between office #1 and office #2\n",
    "Ha: There is a difference in sales between office #1 and office #2"
   ]
  },
  {
   "cell_type": "code",
   "execution_count": 2,
   "metadata": {},
   "outputs": [
    {
     "data": {
      "text/plain": [
       "17.956702977389302"
      ]
     },
     "execution_count": 2,
     "metadata": {},
     "output_type": "execute_result"
    }
   ],
   "source": [
    "xbar1 = 90\n",
    "xbar2 = 100\n",
    "\n",
    "n1 = 40\n",
    "n2 = 50\n",
    "\n",
    "s1 = 15\n",
    "s2 = 20\n",
    "\n",
    "deg_free = n1 + n2 - 2\n",
    "\n",
    "s_p = sqrt(((n1-1) * s1**2 +(n2-1) * s2**2)/(deg_free))\n",
    "s_p"
   ]
  },
  {
   "cell_type": "code",
   "execution_count": 3,
   "metadata": {},
   "outputs": [
    {
     "data": {
      "text/plain": [
       "-2.6252287036468456"
      ]
     },
     "execution_count": 3,
     "metadata": {},
     "output_type": "execute_result"
    }
   ],
   "source": [
    "standard_error = se = sqrt(s1**2/n1 + s2**2/n2)\n",
    "\n",
    "t=(xbar1 - xbar2)/ (s_p * sqrt(1/n1 + 1/n2))\n",
    "t"
   ]
  },
  {
   "cell_type": "code",
   "execution_count": 4,
   "metadata": {},
   "outputs": [
    {
     "data": {
      "text/plain": [
       "0.01020985244923939"
      ]
     },
     "execution_count": 4,
     "metadata": {},
     "output_type": "execute_result"
    }
   ],
   "source": [
    "p = stats.t(deg_free).cdf(t)*2\n",
    "p"
   ]
  },
  {
   "cell_type": "code",
   "execution_count": 5,
   "metadata": {},
   "outputs": [
    {
     "name": "stdout",
     "output_type": "stream",
     "text": [
      "t= -2.6252\n",
      "p = 0.0102\n"
     ]
    }
   ],
   "source": [
    "print(f't= {t:.4f}')\n",
    "print(f'p = {p:.4f}')"
   ]
  },
  {
   "cell_type": "code",
   "execution_count": 6,
   "metadata": {},
   "outputs": [],
   "source": [
    "t,p = stats.ttest_ind_from_stats(mean1=90,std1=15, nobs1 = 40, mean2=100, std2 = 20, nobs2=50, equal_var=False)"
   ]
  },
  {
   "cell_type": "code",
   "execution_count": 7,
   "metadata": {},
   "outputs": [
    {
     "data": {
      "text/plain": [
       "(-2.7091418459143854, 0.00811206270346016)"
      ]
     },
     "execution_count": 7,
     "metadata": {},
     "output_type": "execute_result"
    }
   ],
   "source": [
    "t,p"
   ]
  },
  {
   "cell_type": "code",
   "execution_count": 8,
   "metadata": {},
   "outputs": [],
   "source": [
    "alpha = .05"
   ]
  },
  {
   "cell_type": "code",
   "execution_count": 9,
   "metadata": {},
   "outputs": [
    {
     "name": "stdout",
     "output_type": "stream",
     "text": [
      "Reject null hypothesis, there is evidence to suggest there is a difference in sales\n"
     ]
    }
   ],
   "source": [
    "if p < alpha:\n",
    "    print(\"Reject null hypothesis, there is evidence to suggest there is a difference in sales\")\n",
    "else: \n",
    "    print(\"Fail to reject null hypothesis\")"
   ]
  },
  {
   "cell_type": "markdown",
   "metadata": {},
   "source": [
    "Load the mpg dataset and use it to answer the following questions:"
   ]
  },
  {
   "cell_type": "code",
   "execution_count": 10,
   "metadata": {},
   "outputs": [
    {
     "data": {
      "text/html": [
       "<div>\n",
       "<style scoped>\n",
       "    .dataframe tbody tr th:only-of-type {\n",
       "        vertical-align: middle;\n",
       "    }\n",
       "\n",
       "    .dataframe tbody tr th {\n",
       "        vertical-align: top;\n",
       "    }\n",
       "\n",
       "    .dataframe thead th {\n",
       "        text-align: right;\n",
       "    }\n",
       "</style>\n",
       "<table border=\"1\" class=\"dataframe\">\n",
       "  <thead>\n",
       "    <tr style=\"text-align: right;\">\n",
       "      <th></th>\n",
       "      <th>manufacturer</th>\n",
       "      <th>model</th>\n",
       "      <th>displ</th>\n",
       "      <th>year</th>\n",
       "      <th>cyl</th>\n",
       "      <th>trans</th>\n",
       "      <th>drv</th>\n",
       "      <th>cty</th>\n",
       "      <th>hwy</th>\n",
       "      <th>fl</th>\n",
       "      <th>class</th>\n",
       "    </tr>\n",
       "  </thead>\n",
       "  <tbody>\n",
       "    <tr>\n",
       "      <th>1</th>\n",
       "      <td>audi</td>\n",
       "      <td>a4</td>\n",
       "      <td>1.8</td>\n",
       "      <td>1999</td>\n",
       "      <td>4</td>\n",
       "      <td>auto(l5)</td>\n",
       "      <td>f</td>\n",
       "      <td>18</td>\n",
       "      <td>29</td>\n",
       "      <td>p</td>\n",
       "      <td>compact</td>\n",
       "    </tr>\n",
       "    <tr>\n",
       "      <th>2</th>\n",
       "      <td>audi</td>\n",
       "      <td>a4</td>\n",
       "      <td>1.8</td>\n",
       "      <td>1999</td>\n",
       "      <td>4</td>\n",
       "      <td>manual(m5)</td>\n",
       "      <td>f</td>\n",
       "      <td>21</td>\n",
       "      <td>29</td>\n",
       "      <td>p</td>\n",
       "      <td>compact</td>\n",
       "    </tr>\n",
       "    <tr>\n",
       "      <th>3</th>\n",
       "      <td>audi</td>\n",
       "      <td>a4</td>\n",
       "      <td>2.0</td>\n",
       "      <td>2008</td>\n",
       "      <td>4</td>\n",
       "      <td>manual(m6)</td>\n",
       "      <td>f</td>\n",
       "      <td>20</td>\n",
       "      <td>31</td>\n",
       "      <td>p</td>\n",
       "      <td>compact</td>\n",
       "    </tr>\n",
       "    <tr>\n",
       "      <th>4</th>\n",
       "      <td>audi</td>\n",
       "      <td>a4</td>\n",
       "      <td>2.0</td>\n",
       "      <td>2008</td>\n",
       "      <td>4</td>\n",
       "      <td>auto(av)</td>\n",
       "      <td>f</td>\n",
       "      <td>21</td>\n",
       "      <td>30</td>\n",
       "      <td>p</td>\n",
       "      <td>compact</td>\n",
       "    </tr>\n",
       "    <tr>\n",
       "      <th>5</th>\n",
       "      <td>audi</td>\n",
       "      <td>a4</td>\n",
       "      <td>2.8</td>\n",
       "      <td>1999</td>\n",
       "      <td>6</td>\n",
       "      <td>auto(l5)</td>\n",
       "      <td>f</td>\n",
       "      <td>16</td>\n",
       "      <td>26</td>\n",
       "      <td>p</td>\n",
       "      <td>compact</td>\n",
       "    </tr>\n",
       "    <tr>\n",
       "      <th>...</th>\n",
       "      <td>...</td>\n",
       "      <td>...</td>\n",
       "      <td>...</td>\n",
       "      <td>...</td>\n",
       "      <td>...</td>\n",
       "      <td>...</td>\n",
       "      <td>...</td>\n",
       "      <td>...</td>\n",
       "      <td>...</td>\n",
       "      <td>...</td>\n",
       "      <td>...</td>\n",
       "    </tr>\n",
       "    <tr>\n",
       "      <th>230</th>\n",
       "      <td>volkswagen</td>\n",
       "      <td>passat</td>\n",
       "      <td>2.0</td>\n",
       "      <td>2008</td>\n",
       "      <td>4</td>\n",
       "      <td>auto(s6)</td>\n",
       "      <td>f</td>\n",
       "      <td>19</td>\n",
       "      <td>28</td>\n",
       "      <td>p</td>\n",
       "      <td>midsize</td>\n",
       "    </tr>\n",
       "    <tr>\n",
       "      <th>231</th>\n",
       "      <td>volkswagen</td>\n",
       "      <td>passat</td>\n",
       "      <td>2.0</td>\n",
       "      <td>2008</td>\n",
       "      <td>4</td>\n",
       "      <td>manual(m6)</td>\n",
       "      <td>f</td>\n",
       "      <td>21</td>\n",
       "      <td>29</td>\n",
       "      <td>p</td>\n",
       "      <td>midsize</td>\n",
       "    </tr>\n",
       "    <tr>\n",
       "      <th>232</th>\n",
       "      <td>volkswagen</td>\n",
       "      <td>passat</td>\n",
       "      <td>2.8</td>\n",
       "      <td>1999</td>\n",
       "      <td>6</td>\n",
       "      <td>auto(l5)</td>\n",
       "      <td>f</td>\n",
       "      <td>16</td>\n",
       "      <td>26</td>\n",
       "      <td>p</td>\n",
       "      <td>midsize</td>\n",
       "    </tr>\n",
       "    <tr>\n",
       "      <th>233</th>\n",
       "      <td>volkswagen</td>\n",
       "      <td>passat</td>\n",
       "      <td>2.8</td>\n",
       "      <td>1999</td>\n",
       "      <td>6</td>\n",
       "      <td>manual(m5)</td>\n",
       "      <td>f</td>\n",
       "      <td>18</td>\n",
       "      <td>26</td>\n",
       "      <td>p</td>\n",
       "      <td>midsize</td>\n",
       "    </tr>\n",
       "    <tr>\n",
       "      <th>234</th>\n",
       "      <td>volkswagen</td>\n",
       "      <td>passat</td>\n",
       "      <td>3.6</td>\n",
       "      <td>2008</td>\n",
       "      <td>6</td>\n",
       "      <td>auto(s6)</td>\n",
       "      <td>f</td>\n",
       "      <td>17</td>\n",
       "      <td>26</td>\n",
       "      <td>p</td>\n",
       "      <td>midsize</td>\n",
       "    </tr>\n",
       "  </tbody>\n",
       "</table>\n",
       "<p>234 rows × 11 columns</p>\n",
       "</div>"
      ],
      "text/plain": [
       "    manufacturer   model  displ  year  cyl       trans drv  cty  hwy fl  \\\n",
       "1           audi      a4    1.8  1999    4    auto(l5)   f   18   29  p   \n",
       "2           audi      a4    1.8  1999    4  manual(m5)   f   21   29  p   \n",
       "3           audi      a4    2.0  2008    4  manual(m6)   f   20   31  p   \n",
       "4           audi      a4    2.0  2008    4    auto(av)   f   21   30  p   \n",
       "5           audi      a4    2.8  1999    6    auto(l5)   f   16   26  p   \n",
       "..           ...     ...    ...   ...  ...         ...  ..  ...  ... ..   \n",
       "230   volkswagen  passat    2.0  2008    4    auto(s6)   f   19   28  p   \n",
       "231   volkswagen  passat    2.0  2008    4  manual(m6)   f   21   29  p   \n",
       "232   volkswagen  passat    2.8  1999    6    auto(l5)   f   16   26  p   \n",
       "233   volkswagen  passat    2.8  1999    6  manual(m5)   f   18   26  p   \n",
       "234   volkswagen  passat    3.6  2008    6    auto(s6)   f   17   26  p   \n",
       "\n",
       "       class  \n",
       "1    compact  \n",
       "2    compact  \n",
       "3    compact  \n",
       "4    compact  \n",
       "5    compact  \n",
       "..       ...  \n",
       "230  midsize  \n",
       "231  midsize  \n",
       "232  midsize  \n",
       "233  midsize  \n",
       "234  midsize  \n",
       "\n",
       "[234 rows x 11 columns]"
      ]
     },
     "execution_count": 10,
     "metadata": {},
     "output_type": "execute_result"
    }
   ],
   "source": [
    "mpg_df = data('mpg')\n",
    "mpg_df"
   ]
  },
  {
   "cell_type": "code",
   "execution_count": 11,
   "metadata": {},
   "outputs": [
    {
     "data": {
      "text/plain": [
       "[1999, 2008]"
      ]
     },
     "execution_count": 11,
     "metadata": {},
     "output_type": "execute_result"
    }
   ],
   "source": [
    "#Is there a difference in fuel-efficiency in cars from 2008 vs 1999?\n",
    "list(mpg_df['year'].unique())"
   ]
  },
  {
   "cell_type": "raw",
   "metadata": {},
   "source": [
    "Ho: \"There is no difference in fuel efficiency between cars made in 1999 and 2008.\"\n",
    "Ha: \"There is a difference in fuel efficiency between cars made in 1999 and 2008.\""
   ]
  },
  {
   "cell_type": "code",
   "execution_count": 12,
   "metadata": {},
   "outputs": [],
   "source": [
    "mpg_df['fuel_efficiency'] = (mpg_df.hwy + mpg_df.cty)/2"
   ]
  },
  {
   "cell_type": "code",
   "execution_count": 13,
   "metadata": {},
   "outputs": [],
   "source": [
    "cars_2008 = mpg_df[mpg_df.year==2008].fuel_efficiency\n",
    "cars_1999 = mpg_df[mpg_df.year==1999].fuel_efficiency"
   ]
  },
  {
   "cell_type": "code",
   "execution_count": 14,
   "metadata": {},
   "outputs": [],
   "source": [
    "#two tailed test, 2 samples"
   ]
  },
  {
   "cell_type": "code",
   "execution_count": 15,
   "metadata": {},
   "outputs": [],
   "source": [
    "alpha = .05"
   ]
  },
  {
   "cell_type": "code",
   "execution_count": 16,
   "metadata": {},
   "outputs": [
    {
     "data": {
      "text/plain": [
       "<AxesSubplot:>"
      ]
     },
     "execution_count": 16,
     "metadata": {},
     "output_type": "execute_result"
    },
    {
     "data": {
      "image/png": "[encoded data removed]",
      "text/plain": [
       "<Figure size 432x288 with 1 Axes>"
      ]
     },
     "metadata": {
      "needs_background": "light"
     },
     "output_type": "display_data"
    }
   ],
   "source": [
    "cars_2008.hist()"
   ]
  },
  {
   "cell_type": "code",
   "execution_count": 17,
   "metadata": {},
   "outputs": [
    {
     "data": {
      "text/plain": [
       "<AxesSubplot:>"
      ]
     },
     "execution_count": 17,
     "metadata": {},
     "output_type": "execute_result"
    },
    {
     "data": {
      "image/png": "[encoded data removed]",
      "text/plain": [
       "<Figure size 432x288 with 1 Axes>"
      ]
     },
     "metadata": {
      "needs_background": "light"
     },
     "output_type": "display_data"
    }
   ],
   "source": [
    "cars_1999.hist()"
   ]
  },
  {
   "cell_type": "code",
   "execution_count": 18,
   "metadata": {},
   "outputs": [
    {
     "data": {
      "text/plain": [
       "(24.097480106100797, 27.122605363984682)"
      ]
     },
     "execution_count": 18,
     "metadata": {},
     "output_type": "execute_result"
    }
   ],
   "source": [
    "cars_2008.var(), cars_1999.var()"
   ]
  },
  {
   "cell_type": "code",
   "execution_count": 19,
   "metadata": {},
   "outputs": [
    {
     "data": {
      "text/plain": [
       "(-0.21960177245940962, 0.8263744040323578, 0.05)"
      ]
     },
     "execution_count": 19,
     "metadata": {},
     "output_type": "execute_result"
    }
   ],
   "source": [
    "t,p = stats.ttest_ind(cars_2008, cars_1999)\n",
    "t,p,alpha"
   ]
  },
  {
   "cell_type": "code",
   "execution_count": 20,
   "metadata": {},
   "outputs": [],
   "source": [
    "#Since p is greater than our alpha, we fail to reject the null hypothesis. \n",
    "#There is not sufficient evidence to suggest fuel efficiencies are different for cars made in 1999 or 2008.\n"
   ]
  },
  {
   "cell_type": "markdown",
   "metadata": {},
   "source": [
    "Are compact cars more fuel-efficient than the average car?"
   ]
  },
  {
   "cell_type": "raw",
   "metadata": {},
   "source": [
    "H0: Compact cars are as fuel efficient as all cars\n",
    "Ha: Compact cars are more fuel efficient than average cars.\n",
    "This will be a one tailed, 1 sample t test"
   ]
  },
  {
   "cell_type": "code",
   "execution_count": 21,
   "metadata": {},
   "outputs": [
    {
     "name": "stdout",
     "output_type": "stream",
     "text": [
      "<class 'pandas.core.frame.DataFrame'>\n",
      "Int64Index: 234 entries, 1 to 234\n",
      "Data columns (total 12 columns):\n",
      " #   Column           Non-Null Count  Dtype  \n",
      "---  ------           --------------  -----  \n",
      " 0   manufacturer     234 non-null    object \n",
      " 1   model            234 non-null    object \n",
      " 2   displ            234 non-null    float64\n",
      " 3   year             234 non-null    int64  \n",
      " 4   cyl              234 non-null    int64  \n",
      " 5   trans            234 non-null    object \n",
      " 6   drv              234 non-null    object \n",
      " 7   cty              234 non-null    int64  \n",
      " 8   hwy              234 non-null    int64  \n",
      " 9   fl               234 non-null    object \n",
      " 10  class            234 non-null    object \n",
      " 11  fuel_efficiency  234 non-null    float64\n",
      "dtypes: float64(2), int64(4), object(6)\n",
      "memory usage: 23.8+ KB\n"
     ]
    }
   ],
   "source": [
    "\n",
    "mpg_df.head()\n",
    "mpg_df.info()"
   ]
  },
  {
   "cell_type": "code",
   "execution_count": 22,
   "metadata": {},
   "outputs": [],
   "source": [
    "mpg_df = mpg_df.rename(columns = {'class': \"car_type\"})\n",
    "compact_fuel = mpg_df[mpg_df.car_type==\"compact\"].fuel_efficiency\n"
   ]
  },
  {
   "cell_type": "markdown",
   "metadata": {},
   "source": [
    "mpg_df = mpg_df['class']"
   ]
  },
  {
   "cell_type": "code",
   "execution_count": 23,
   "metadata": {},
   "outputs": [
    {
     "data": {
      "text/plain": [
       "['compact', 'midsize', 'suv', '2seater', 'minivan', 'pickup', 'subcompact']"
      ]
     },
     "execution_count": 23,
     "metadata": {},
     "output_type": "execute_result"
    }
   ],
   "source": [
    "list(mpg_df['car_type'].unique())"
   ]
  },
  {
   "cell_type": "code",
   "execution_count": 24,
   "metadata": {},
   "outputs": [],
   "source": [
    "def car_type(x):\n",
    "    if x ==\"compact\":\n",
    "        return \"compact\"\n",
    "    else:\n",
    "        return \"not_compact\"\n",
    "mpg_df[\"is_compact\"] = mpg_df.car_type.apply(car_type)\n",
    "\n",
    "average_fuel = mpg_df[mpg_df.is_compact ==\"not_compact\"].fuel_efficiency"
   ]
  },
  {
   "cell_type": "code",
   "execution_count": 25,
   "metadata": {},
   "outputs": [],
   "source": [
    "alpha = .05"
   ]
  },
  {
   "cell_type": "code",
   "execution_count": 26,
   "metadata": {},
   "outputs": [
    {
     "data": {
      "text/plain": [
       "<AxesSubplot:>"
      ]
     },
     "execution_count": 26,
     "metadata": {},
     "output_type": "execute_result"
    },
    {
     "data": {
      "image/png": "[encoded data removed]",
      "text/plain": [
       "<Figure size 432x288 with 1 Axes>"
      ]
     },
     "metadata": {
      "needs_background": "light"
     },
     "output_type": "display_data"
    }
   ],
   "source": [
    "compact_fuel.hist()"
   ]
  },
  {
   "cell_type": "code",
   "execution_count": 27,
   "metadata": {},
   "outputs": [
    {
     "data": {
      "text/plain": [
       "<AxesSubplot:>"
      ]
     },
     "execution_count": 27,
     "metadata": {},
     "output_type": "execute_result"
    },
    {
     "data": {
      "image/png": "[encoded data removed]",
      "text/plain": [
       "<Figure size 432x288 with 1 Axes>"
      ]
     },
     "metadata": {
      "needs_background": "light"
     },
     "output_type": "display_data"
    }
   ],
   "source": [
    "average_fuel.hist()"
   ]
  },
  {
   "cell_type": "code",
   "execution_count": null,
   "metadata": {},
   "outputs": [],
   "source": []
  },
  {
   "cell_type": "code",
   "execution_count": 28,
   "metadata": {},
   "outputs": [],
   "source": [
    "overall_mean = mpg_df.fuel_efficiency"
   ]
  },
  {
   "cell_type": "code",
   "execution_count": 29,
   "metadata": {},
   "outputs": [
    {
     "data": {
      "text/plain": [
       "(5.260311926248542, 1.4342273079064686e-07, 0.05)"
      ]
     },
     "execution_count": 29,
     "metadata": {},
     "output_type": "execute_result"
    }
   ],
   "source": [
    "t,p = stats.ttest_ind(compact_fuel,overall_mean,alternative=\"greater\")\n",
    "t,p,alpha"
   ]
  },
  {
   "cell_type": "code",
   "execution_count": 30,
   "metadata": {},
   "outputs": [],
   "source": [
    "#P is less than alpha, so we reject null hypothesis.\n",
    "#There is evidence to suggest compact cars are more fuel efficient than average."
   ]
  },
  {
   "cell_type": "markdown",
   "metadata": {},
   "source": [
    "Do manual cars get better gas mileage than automatic cars?"
   ]
  },
  {
   "cell_type": "raw",
   "metadata": {},
   "source": [
    "Ho: Manual cars and automactic cars get the same gas mileage\n",
    "Ha: Manual cars get better gas mileage than automactic cars.\n",
    "#One tailed, 2 sample t test"
   ]
  },
  {
   "cell_type": "code",
   "execution_count": 31,
   "metadata": {},
   "outputs": [
    {
     "data": {
      "text/html": [
       "<div>\n",
       "<style scoped>\n",
       "    .dataframe tbody tr th:only-of-type {\n",
       "        vertical-align: middle;\n",
       "    }\n",
       "\n",
       "    .dataframe tbody tr th {\n",
       "        vertical-align: top;\n",
       "    }\n",
       "\n",
       "    .dataframe thead th {\n",
       "        text-align: right;\n",
       "    }\n",
       "</style>\n",
       "<table border=\"1\" class=\"dataframe\">\n",
       "  <thead>\n",
       "    <tr style=\"text-align: right;\">\n",
       "      <th></th>\n",
       "      <th>manufacturer</th>\n",
       "      <th>model</th>\n",
       "      <th>displ</th>\n",
       "      <th>year</th>\n",
       "      <th>cyl</th>\n",
       "      <th>trans</th>\n",
       "      <th>drv</th>\n",
       "      <th>cty</th>\n",
       "      <th>hwy</th>\n",
       "      <th>fl</th>\n",
       "      <th>car_type</th>\n",
       "      <th>fuel_efficiency</th>\n",
       "      <th>is_compact</th>\n",
       "    </tr>\n",
       "  </thead>\n",
       "  <tbody>\n",
       "    <tr>\n",
       "      <th>1</th>\n",
       "      <td>audi</td>\n",
       "      <td>a4</td>\n",
       "      <td>1.8</td>\n",
       "      <td>1999</td>\n",
       "      <td>4</td>\n",
       "      <td>auto(l5)</td>\n",
       "      <td>f</td>\n",
       "      <td>18</td>\n",
       "      <td>29</td>\n",
       "      <td>p</td>\n",
       "      <td>compact</td>\n",
       "      <td>23.5</td>\n",
       "      <td>compact</td>\n",
       "    </tr>\n",
       "    <tr>\n",
       "      <th>2</th>\n",
       "      <td>audi</td>\n",
       "      <td>a4</td>\n",
       "      <td>1.8</td>\n",
       "      <td>1999</td>\n",
       "      <td>4</td>\n",
       "      <td>manual(m5)</td>\n",
       "      <td>f</td>\n",
       "      <td>21</td>\n",
       "      <td>29</td>\n",
       "      <td>p</td>\n",
       "      <td>compact</td>\n",
       "      <td>25.0</td>\n",
       "      <td>compact</td>\n",
       "    </tr>\n",
       "    <tr>\n",
       "      <th>3</th>\n",
       "      <td>audi</td>\n",
       "      <td>a4</td>\n",
       "      <td>2.0</td>\n",
       "      <td>2008</td>\n",
       "      <td>4</td>\n",
       "      <td>manual(m6)</td>\n",
       "      <td>f</td>\n",
       "      <td>20</td>\n",
       "      <td>31</td>\n",
       "      <td>p</td>\n",
       "      <td>compact</td>\n",
       "      <td>25.5</td>\n",
       "      <td>compact</td>\n",
       "    </tr>\n",
       "    <tr>\n",
       "      <th>4</th>\n",
       "      <td>audi</td>\n",
       "      <td>a4</td>\n",
       "      <td>2.0</td>\n",
       "      <td>2008</td>\n",
       "      <td>4</td>\n",
       "      <td>auto(av)</td>\n",
       "      <td>f</td>\n",
       "      <td>21</td>\n",
       "      <td>30</td>\n",
       "      <td>p</td>\n",
       "      <td>compact</td>\n",
       "      <td>25.5</td>\n",
       "      <td>compact</td>\n",
       "    </tr>\n",
       "    <tr>\n",
       "      <th>5</th>\n",
       "      <td>audi</td>\n",
       "      <td>a4</td>\n",
       "      <td>2.8</td>\n",
       "      <td>1999</td>\n",
       "      <td>6</td>\n",
       "      <td>auto(l5)</td>\n",
       "      <td>f</td>\n",
       "      <td>16</td>\n",
       "      <td>26</td>\n",
       "      <td>p</td>\n",
       "      <td>compact</td>\n",
       "      <td>21.0</td>\n",
       "      <td>compact</td>\n",
       "    </tr>\n",
       "  </tbody>\n",
       "</table>\n",
       "</div>"
      ],
      "text/plain": [
       "  manufacturer model  displ  year  cyl       trans drv  cty  hwy fl car_type  \\\n",
       "1         audi    a4    1.8  1999    4    auto(l5)   f   18   29  p  compact   \n",
       "2         audi    a4    1.8  1999    4  manual(m5)   f   21   29  p  compact   \n",
       "3         audi    a4    2.0  2008    4  manual(m6)   f   20   31  p  compact   \n",
       "4         audi    a4    2.0  2008    4    auto(av)   f   21   30  p  compact   \n",
       "5         audi    a4    2.8  1999    6    auto(l5)   f   16   26  p  compact   \n",
       "\n",
       "   fuel_efficiency is_compact  \n",
       "1             23.5    compact  \n",
       "2             25.0    compact  \n",
       "3             25.5    compact  \n",
       "4             25.5    compact  \n",
       "5             21.0    compact  "
      ]
     },
     "execution_count": 31,
     "metadata": {},
     "output_type": "execute_result"
    }
   ],
   "source": [
    "mpg_df.head()"
   ]
  },
  {
   "cell_type": "code",
   "execution_count": 32,
   "metadata": {},
   "outputs": [],
   "source": [
    "def transmission(x):\n",
    "    startswith = 'a'\n",
    "    if x[0] in startswith:\n",
    "        return \"auto\"\n",
    "    else: \n",
    "        return \"manual\"\n"
   ]
  },
  {
   "cell_type": "code",
   "execution_count": 33,
   "metadata": {},
   "outputs": [],
   "source": [
    "mpg_df[\"transmission\"] = mpg_df.trans.apply(transmission)"
   ]
  },
  {
   "cell_type": "code",
   "execution_count": 34,
   "metadata": {},
   "outputs": [
    {
     "data": {
      "text/html": [
       "<div>\n",
       "<style scoped>\n",
       "    .dataframe tbody tr th:only-of-type {\n",
       "        vertical-align: middle;\n",
       "    }\n",
       "\n",
       "    .dataframe tbody tr th {\n",
       "        vertical-align: top;\n",
       "    }\n",
       "\n",
       "    .dataframe thead th {\n",
       "        text-align: right;\n",
       "    }\n",
       "</style>\n",
       "<table border=\"1\" class=\"dataframe\">\n",
       "  <thead>\n",
       "    <tr style=\"text-align: right;\">\n",
       "      <th></th>\n",
       "      <th>manufacturer</th>\n",
       "      <th>model</th>\n",
       "      <th>displ</th>\n",
       "      <th>year</th>\n",
       "      <th>cyl</th>\n",
       "      <th>trans</th>\n",
       "      <th>drv</th>\n",
       "      <th>cty</th>\n",
       "      <th>hwy</th>\n",
       "      <th>fl</th>\n",
       "      <th>car_type</th>\n",
       "      <th>fuel_efficiency</th>\n",
       "      <th>is_compact</th>\n",
       "      <th>transmission</th>\n",
       "    </tr>\n",
       "  </thead>\n",
       "  <tbody>\n",
       "    <tr>\n",
       "      <th>1</th>\n",
       "      <td>audi</td>\n",
       "      <td>a4</td>\n",
       "      <td>1.8</td>\n",
       "      <td>1999</td>\n",
       "      <td>4</td>\n",
       "      <td>auto(l5)</td>\n",
       "      <td>f</td>\n",
       "      <td>18</td>\n",
       "      <td>29</td>\n",
       "      <td>p</td>\n",
       "      <td>compact</td>\n",
       "      <td>23.5</td>\n",
       "      <td>compact</td>\n",
       "      <td>auto</td>\n",
       "    </tr>\n",
       "    <tr>\n",
       "      <th>2</th>\n",
       "      <td>audi</td>\n",
       "      <td>a4</td>\n",
       "      <td>1.8</td>\n",
       "      <td>1999</td>\n",
       "      <td>4</td>\n",
       "      <td>manual(m5)</td>\n",
       "      <td>f</td>\n",
       "      <td>21</td>\n",
       "      <td>29</td>\n",
       "      <td>p</td>\n",
       "      <td>compact</td>\n",
       "      <td>25.0</td>\n",
       "      <td>compact</td>\n",
       "      <td>manual</td>\n",
       "    </tr>\n",
       "    <tr>\n",
       "      <th>3</th>\n",
       "      <td>audi</td>\n",
       "      <td>a4</td>\n",
       "      <td>2.0</td>\n",
       "      <td>2008</td>\n",
       "      <td>4</td>\n",
       "      <td>manual(m6)</td>\n",
       "      <td>f</td>\n",
       "      <td>20</td>\n",
       "      <td>31</td>\n",
       "      <td>p</td>\n",
       "      <td>compact</td>\n",
       "      <td>25.5</td>\n",
       "      <td>compact</td>\n",
       "      <td>manual</td>\n",
       "    </tr>\n",
       "    <tr>\n",
       "      <th>4</th>\n",
       "      <td>audi</td>\n",
       "      <td>a4</td>\n",
       "      <td>2.0</td>\n",
       "      <td>2008</td>\n",
       "      <td>4</td>\n",
       "      <td>auto(av)</td>\n",
       "      <td>f</td>\n",
       "      <td>21</td>\n",
       "      <td>30</td>\n",
       "      <td>p</td>\n",
       "      <td>compact</td>\n",
       "      <td>25.5</td>\n",
       "      <td>compact</td>\n",
       "      <td>auto</td>\n",
       "    </tr>\n",
       "    <tr>\n",
       "      <th>5</th>\n",
       "      <td>audi</td>\n",
       "      <td>a4</td>\n",
       "      <td>2.8</td>\n",
       "      <td>1999</td>\n",
       "      <td>6</td>\n",
       "      <td>auto(l5)</td>\n",
       "      <td>f</td>\n",
       "      <td>16</td>\n",
       "      <td>26</td>\n",
       "      <td>p</td>\n",
       "      <td>compact</td>\n",
       "      <td>21.0</td>\n",
       "      <td>compact</td>\n",
       "      <td>auto</td>\n",
       "    </tr>\n",
       "  </tbody>\n",
       "</table>\n",
       "</div>"
      ],
      "text/plain": [
       "  manufacturer model  displ  year  cyl       trans drv  cty  hwy fl car_type  \\\n",
       "1         audi    a4    1.8  1999    4    auto(l5)   f   18   29  p  compact   \n",
       "2         audi    a4    1.8  1999    4  manual(m5)   f   21   29  p  compact   \n",
       "3         audi    a4    2.0  2008    4  manual(m6)   f   20   31  p  compact   \n",
       "4         audi    a4    2.0  2008    4    auto(av)   f   21   30  p  compact   \n",
       "5         audi    a4    2.8  1999    6    auto(l5)   f   16   26  p  compact   \n",
       "\n",
       "   fuel_efficiency is_compact transmission  \n",
       "1             23.5    compact         auto  \n",
       "2             25.0    compact       manual  \n",
       "3             25.5    compact       manual  \n",
       "4             25.5    compact         auto  \n",
       "5             21.0    compact         auto  "
      ]
     },
     "execution_count": 34,
     "metadata": {},
     "output_type": "execute_result"
    }
   ],
   "source": [
    "auto = mpg_df[mpg_df.transmission ==\"auto\"]\n",
    "manual = mpg_df[mpg_df.transmission==\"manual\"]\n",
    "\n",
    "mpg_df.head()"
   ]
  },
  {
   "cell_type": "code",
   "execution_count": 35,
   "metadata": {},
   "outputs": [],
   "source": [
    "t,p=stats.ttest_ind(manual.fuel_efficiency,auto.fuel_efficiency, equal_var=False)"
   ]
  },
  {
   "cell_type": "code",
   "execution_count": 36,
   "metadata": {},
   "outputs": [
    {
     "data": {
      "text/plain": [
       "(4.443514012903071, 8.976124499958965e-06, 0.05)"
      ]
     },
     "execution_count": 36,
     "metadata": {},
     "output_type": "execute_result"
    }
   ],
   "source": [
    "t,p/2,alpha"
   ]
  },
  {
   "cell_type": "code",
   "execution_count": 37,
   "metadata": {},
   "outputs": [],
   "source": [
    "#Since p is less than alpha, we fail to reject the null hypothesis.\n",
    "#There is evidence to suggest automactic transmission cars have a lower fuel efficiency than manual."
   ]
  },
  {
   "cell_type": "markdown",
   "metadata": {},
   "source": [
    "# Correlation Exercises"
   ]
  },
  {
   "cell_type": "raw",
   "metadata": {},
   "source": [
    "Use the telco_churn data. Does tenure correlate with monthly charges? Total charges? What happens if you control for phone and internet service?"
   ]
  },
  {
   "cell_type": "code",
   "execution_count": 38,
   "metadata": {},
   "outputs": [],
   "source": [
    "telco_churn_df = pd.read_csv('Cust_Churn_Telco - Cust_Churn_Telco.csv')"
   ]
  },
  {
   "cell_type": "code",
   "execution_count": 39,
   "metadata": {},
   "outputs": [
    {
     "name": "stdout",
     "output_type": "stream",
     "text": [
      "<class 'pandas.core.frame.DataFrame'>\n",
      "RangeIndex: 7043 entries, 0 to 7042\n",
      "Data columns (total 21 columns):\n",
      " #   Column            Non-Null Count  Dtype  \n",
      "---  ------            --------------  -----  \n",
      " 0   customerID        7043 non-null   object \n",
      " 1   gender            7043 non-null   object \n",
      " 2   SeniorCitizen     7043 non-null   int64  \n",
      " 3   Partner           7043 non-null   object \n",
      " 4   Dependents        7043 non-null   object \n",
      " 5   tenure            7043 non-null   int64  \n",
      " 6   PhoneService      7043 non-null   object \n",
      " 7   MultipleLines     7043 non-null   object \n",
      " 8   InternetService   7043 non-null   object \n",
      " 9   OnlineSecurity    7043 non-null   object \n",
      " 10  OnlineBackup      7043 non-null   object \n",
      " 11  DeviceProtection  7043 non-null   object \n",
      " 12  TechSupport       7043 non-null   object \n",
      " 13  StreamingTV       7043 non-null   object \n",
      " 14  StreamingMovies   7043 non-null   object \n",
      " 15  Contract          7043 non-null   object \n",
      " 16  PaperlessBilling  7043 non-null   object \n",
      " 17  PaymentMethod     7043 non-null   object \n",
      " 18  MonthlyCharges    7043 non-null   float64\n",
      " 19  TotalCharges      7032 non-null   float64\n",
      " 20  Churn             7043 non-null   object \n",
      "dtypes: float64(2), int64(2), object(17)\n",
      "memory usage: 1.1+ MB\n"
     ]
    }
   ],
   "source": [
    "telco_churn_df.info()"
   ]
  },
  {
   "cell_type": "code",
   "execution_count": 40,
   "metadata": {},
   "outputs": [],
   "source": [
    "telco_churn_df.dropna()\n",
    "telco_churn_df_nn = telco_churn_df.dropna()"
   ]
  },
  {
   "cell_type": "raw",
   "metadata": {},
   "source": [
    "Ho: There is no linear relationship between tenure and monthly charges\n",
    "Ha: There is a linear relationship between tenure and monthly charges"
   ]
  },
  {
   "cell_type": "code",
   "execution_count": 41,
   "metadata": {},
   "outputs": [],
   "source": [
    "x = telco_churn_df['tenure']\n",
    "y = telco_churn_df['MonthlyCharges']"
   ]
  },
  {
   "cell_type": "code",
   "execution_count": 42,
   "metadata": {},
   "outputs": [
    {
     "data": {
      "text/plain": [
       "(100.0, 123.775)"
      ]
     },
     "execution_count": 42,
     "metadata": {},
     "output_type": "execute_result"
    },
    {
     "data": {
      "image/png": "[encoded data removed]",
      "text/plain": [
       "<Figure size 432x288 with 1 Axes>"
      ]
     },
     "metadata": {
      "needs_background": "light"
     },
     "output_type": "display_data"
    }
   ],
   "source": [
    "plt.scatter(x,y)\n",
    "plt.ylim(100)"
   ]
  },
  {
   "cell_type": "code",
   "execution_count": 43,
   "metadata": {},
   "outputs": [],
   "source": [
    "corr, p = stats.pearsonr(x,y)"
   ]
  },
  {
   "cell_type": "code",
   "execution_count": 44,
   "metadata": {},
   "outputs": [
    {
     "data": {
      "text/plain": [
       "0.24789985628615002"
      ]
     },
     "execution_count": 44,
     "metadata": {},
     "output_type": "execute_result"
    }
   ],
   "source": [
    "corr"
   ]
  },
  {
   "cell_type": "code",
   "execution_count": 45,
   "metadata": {},
   "outputs": [
    {
     "data": {
      "text/plain": [
       "4.0940449915016345e-99"
      ]
     },
     "execution_count": 45,
     "metadata": {},
     "output_type": "execute_result"
    }
   ],
   "source": [
    "p"
   ]
  },
  {
   "cell_type": "code",
   "execution_count": 46,
   "metadata": {},
   "outputs": [],
   "source": [
    "#There is a weak correlation between tenure and monthly charges. "
   ]
  },
  {
   "cell_type": "code",
   "execution_count": 47,
   "metadata": {},
   "outputs": [],
   "source": [
    "x = telco_churn_df_nn.tenure\n",
    "y = telco_churn_df_nn.TotalCharges"
   ]
  },
  {
   "cell_type": "code",
   "execution_count": 48,
   "metadata": {},
   "outputs": [
    {
     "data": {
      "text/plain": [
       "<matplotlib.collections.PathCollection at 0x7f9e3f5f7d90>"
      ]
     },
     "execution_count": 48,
     "metadata": {},
     "output_type": "execute_result"
    },
    {
     "data": {
      "image/png": "[encoded data removed]",
      "text/plain": [
       "<Figure size 432x288 with 1 Axes>"
      ]
     },
     "metadata": {
      "needs_background": "light"
     },
     "output_type": "display_data"
    }
   ],
   "source": [
    "plt.scatter(x,y)"
   ]
  },
  {
   "cell_type": "code",
   "execution_count": 49,
   "metadata": {},
   "outputs": [],
   "source": [
    "corr, p = stats.pearsonr(x,y)"
   ]
  },
  {
   "cell_type": "code",
   "execution_count": 50,
   "metadata": {},
   "outputs": [
    {
     "data": {
      "text/plain": [
       "0.825880460933202"
      ]
     },
     "execution_count": 50,
     "metadata": {},
     "output_type": "execute_result"
    }
   ],
   "source": [
    "corr"
   ]
  },
  {
   "cell_type": "code",
   "execution_count": 51,
   "metadata": {},
   "outputs": [
    {
     "data": {
      "text/plain": [
       "0.0"
      ]
     },
     "execution_count": 51,
     "metadata": {},
     "output_type": "execute_result"
    }
   ],
   "source": [
    "p"
   ]
  },
  {
   "cell_type": "code",
   "execution_count": 52,
   "metadata": {},
   "outputs": [],
   "source": [
    "#Strong positive correlation, we reject the null hypothesis. Significant evidence to suggest there is a linear relationship between tenure and total charges"
   ]
  },
  {
   "cell_type": "code",
   "execution_count": 53,
   "metadata": {},
   "outputs": [],
   "source": [
    "#What happens if you control for phone and internet service?"
   ]
  },
  {
   "cell_type": "code",
   "execution_count": 54,
   "metadata": {},
   "outputs": [],
   "source": [
    "x = telco_churn_df_nn.TotalCharges.where(telco_churn_df_nn.PhoneService == \"Yes\")\n",
    "y = telco_churn_df_nn.tenure.where(telco_churn_df_nn.PhoneService== \"Yes\")"
   ]
  },
  {
   "cell_type": "code",
   "execution_count": 55,
   "metadata": {},
   "outputs": [],
   "source": [
    "x= x.dropna()\n",
    "y=y.dropna()"
   ]
  },
  {
   "cell_type": "code",
   "execution_count": 56,
   "metadata": {},
   "outputs": [
    {
     "data": {
      "text/plain": [
       "<matplotlib.collections.PathCollection at 0x7f9e4353f7f0>"
      ]
     },
     "execution_count": 56,
     "metadata": {},
     "output_type": "execute_result"
    },
    {
     "data": {
      "image/png": "[encoded data removed]",
      "text/plain": [
       "<Figure size 432x288 with 1 Axes>"
      ]
     },
     "metadata": {
      "needs_background": "light"
     },
     "output_type": "display_data"
    }
   ],
   "source": [
    "plt.scatter(x,y)"
   ]
  },
  {
   "cell_type": "code",
   "execution_count": 57,
   "metadata": {},
   "outputs": [],
   "source": [
    "corr, p = stats.pearsonr(x,y)\n",
    "\n"
   ]
  },
  {
   "cell_type": "code",
   "execution_count": 58,
   "metadata": {},
   "outputs": [
    {
     "name": "stdout",
     "output_type": "stream",
     "text": [
      "<class 'pandas.core.frame.DataFrame'>\n",
      "Int64Index: 7032 entries, 0 to 7042\n",
      "Data columns (total 21 columns):\n",
      " #   Column            Non-Null Count  Dtype  \n",
      "---  ------            --------------  -----  \n",
      " 0   customerID        7032 non-null   object \n",
      " 1   gender            7032 non-null   object \n",
      " 2   SeniorCitizen     7032 non-null   int64  \n",
      " 3   Partner           7032 non-null   object \n",
      " 4   Dependents        7032 non-null   object \n",
      " 5   tenure            7032 non-null   int64  \n",
      " 6   PhoneService      7032 non-null   object \n",
      " 7   MultipleLines     7032 non-null   object \n",
      " 8   InternetService   7032 non-null   object \n",
      " 9   OnlineSecurity    7032 non-null   object \n",
      " 10  OnlineBackup      7032 non-null   object \n",
      " 11  DeviceProtection  7032 non-null   object \n",
      " 12  TechSupport       7032 non-null   object \n",
      " 13  StreamingTV       7032 non-null   object \n",
      " 14  StreamingMovies   7032 non-null   object \n",
      " 15  Contract          7032 non-null   object \n",
      " 16  PaperlessBilling  7032 non-null   object \n",
      " 17  PaymentMethod     7032 non-null   object \n",
      " 18  MonthlyCharges    7032 non-null   float64\n",
      " 19  TotalCharges      7032 non-null   float64\n",
      " 20  Churn             7032 non-null   object \n",
      "dtypes: float64(2), int64(2), object(17)\n",
      "memory usage: 1.2+ MB\n"
     ]
    }
   ],
   "source": [
    "telco_churn_df_nn.info()"
   ]
  },
  {
   "cell_type": "code",
   "execution_count": 59,
   "metadata": {},
   "outputs": [
    {
     "ename": "TypeError",
     "evalue": "'Series' object is not callable",
     "output_type": "error",
     "traceback": [
      "\u001b[0;31m---------------------------------------------------------------------------\u001b[0m",
      "\u001b[0;31mTypeError\u001b[0m                                 Traceback (most recent call last)",
      "\u001b[0;32m<ipython-input-59-0ea81db18233>\u001b[0m in \u001b[0;36m<module>\u001b[0;34m\u001b[0m\n\u001b[0;32m----> 1\u001b[0;31m \u001b[0mtelco_churn_df_nn\u001b[0m\u001b[0;34m.\u001b[0m\u001b[0mInternetService\u001b[0m\u001b[0;34m(\u001b[0m\u001b[0;34m)\u001b[0m\u001b[0;34m\u001b[0m\u001b[0;34m\u001b[0m\u001b[0m\n\u001b[0m",
      "\u001b[0;31mTypeError\u001b[0m: 'Series' object is not callable"
     ]
    }
   ],
   "source": [
    "telco_churn_df_nn.InternetService()"
   ]
  },
  {
   "cell_type": "code",
   "execution_count": null,
   "metadata": {},
   "outputs": [],
   "source": [
    "corr"
   ]
  },
  {
   "cell_type": "code",
   "execution_count": null,
   "metadata": {},
   "outputs": [],
   "source": [
    "p"
   ]
  },
  {
   "cell_type": "raw",
   "metadata": {},
   "source": [
    "#Reject null hypothesis, because p is lower than alpha = 0.05. There is evidence to suggest that there is a linear relationship between total charges of customers with phone service and tenure.\n"
   ]
  },
  {
   "cell_type": "code",
   "execution_count": null,
   "metadata": {},
   "outputs": [],
   "source": [
    "x = telco_churn_df_nn.TotalCharges.where(telco_churn_df_nn.PhoneService == \"No\")\n",
    "y = telco_churn_df_nn.tenure.where(telco_churn_df_nn.PhoneService== \"No\")"
   ]
  },
  {
   "cell_type": "code",
   "execution_count": null,
   "metadata": {},
   "outputs": [],
   "source": [
    "x = x.dropna()\n",
    "y=y.dropna()"
   ]
  },
  {
   "cell_type": "code",
   "execution_count": null,
   "metadata": {},
   "outputs": [],
   "source": [
    "plt.scatter(x,y)"
   ]
  },
  {
   "cell_type": "code",
   "execution_count": null,
   "metadata": {},
   "outputs": [],
   "source": [
    "corr, p = stats.pearsonr(x,y)"
   ]
  },
  {
   "cell_type": "code",
   "execution_count": null,
   "metadata": {},
   "outputs": [],
   "source": [
    "corr"
   ]
  },
  {
   "cell_type": "code",
   "execution_count": null,
   "metadata": {},
   "outputs": [],
   "source": [
    "p"
   ]
  },
  {
   "cell_type": "raw",
   "metadata": {},
   "source": [
    "#Reject null hypothesis, there is evidence to suggest there is a linear relationship between customer total charges with no phone service, and tenure.\n",
    "Strong positive correlation, significant p value."
   ]
  },
  {
   "cell_type": "code",
   "execution_count": null,
   "metadata": {},
   "outputs": [],
   "source": [
    "list(telco_churn_df_nn['InternetService'].unique())"
   ]
  },
  {
   "cell_type": "code",
   "execution_count": null,
   "metadata": {},
   "outputs": [],
   "source": [
    "telco_churn_df[\"no_internet\"] = telco_churn_df.InternetService.str.contains(\"No\")"
   ]
  },
  {
   "cell_type": "code",
   "execution_count": null,
   "metadata": {},
   "outputs": [],
   "source": [
    "telco_churn_df.head()\n",
    "telco_churn_df = telco_churn_df.dropna()"
   ]
  },
  {
   "cell_type": "code",
   "execution_count": null,
   "metadata": {},
   "outputs": [],
   "source": [
    "x = telco_churn_df.TotalCharges.where(telco_churn_df.no_internet==False)\n",
    "y = telco_churn_df_nn.tenure.where(telco_churn_df_nn.no_internet==False)"
   ]
  },
  {
   "cell_type": "code",
   "execution_count": null,
   "metadata": {},
   "outputs": [],
   "source": [
    "x = x.dropna()\n",
    "y = y.dropna()"
   ]
  },
  {
   "cell_type": "code",
   "execution_count": null,
   "metadata": {},
   "outputs": [],
   "source": [
    "plt.scatter(x,y)"
   ]
  },
  {
   "cell_type": "code",
   "execution_count": null,
   "metadata": {},
   "outputs": [],
   "source": [
    "corr, r = stats.pearsonr(x,y)"
   ]
  },
  {
   "cell_type": "code",
   "execution_count": null,
   "metadata": {},
   "outputs": [],
   "source": [
    "corr"
   ]
  },
  {
   "cell_type": "code",
   "execution_count": null,
   "metadata": {},
   "outputs": [],
   "source": [
    "r"
   ]
  },
  {
   "cell_type": "code",
   "execution_count": null,
   "metadata": {},
   "outputs": [],
   "source": [
    "#There is a strong positive correlation between customers with internet service and tenure.\n",
    "#Reject the null hypothesis, there's evidence to suggest a linear relationship between internet service and tenure."
   ]
  },
  {
   "cell_type": "code",
   "execution_count": null,
   "metadata": {},
   "outputs": [],
   "source": [
    "x = telco_churn_df.TotalCharges.where(telco_churn_df.no_internet==True)\n",
    "y = telco_churn_df_nn.tenure.where(telco_churn_df_nn.no_internet==True)\n"
   ]
  },
  {
   "cell_type": "code",
   "execution_count": null,
   "metadata": {},
   "outputs": [],
   "source": [
    "x=x.dropna()\n",
    "y=y.dropna()"
   ]
  },
  {
   "cell_type": "code",
   "execution_count": null,
   "metadata": {},
   "outputs": [],
   "source": [
    "plt.scatter(x,y)"
   ]
  },
  {
   "cell_type": "code",
   "execution_count": null,
   "metadata": {},
   "outputs": [],
   "source": [
    "corr, p = stats.pearsonr(x,y)"
   ]
  },
  {
   "cell_type": "code",
   "execution_count": null,
   "metadata": {},
   "outputs": [],
   "source": [
    "corr"
   ]
  },
  {
   "cell_type": "code",
   "execution_count": null,
   "metadata": {},
   "outputs": [],
   "source": [
    "p"
   ]
  },
  {
   "cell_type": "code",
   "execution_count": null,
   "metadata": {},
   "outputs": [],
   "source": [
    "#Strong positive correlation between customers with no internet service and tenure.\n",
    "#There is a relationship between total charges of customers with no internet service and tenure. \n",
    "#Significant p value, we reject the null hypothesis. "
   ]
  },
  {
   "cell_type": "code",
   "execution_count": null,
   "metadata": {},
   "outputs": [],
   "source": [
    "from env import username, password, host"
   ]
  },
  {
   "cell_type": "code",
   "execution_count": 60,
   "metadata": {},
   "outputs": [],
   "source": [
    "from env import get_db_url"
   ]
  },
  {
   "cell_type": "raw",
   "metadata": {},
   "source": [
    "Is there a relationship between how long an employee has been with the company and their salary?\n"
   ]
  },
  {
   "cell_type": "code",
   "execution_count": 62,
   "metadata": {},
   "outputs": [],
   "source": [
    "employees_url = get_db_url('employees')"
   ]
  },
  {
   "cell_type": "code",
   "execution_count": 66,
   "metadata": {},
   "outputs": [],
   "source": [
    "employees_df = pd.read_sql('select * from employees join salaries on salaries.emp_no = employees.emp_no where to_date > curdate()',employees_url)"
   ]
  },
  {
   "cell_type": "code",
   "execution_count": 67,
   "metadata": {},
   "outputs": [
    {
     "data": {
      "text/html": [
       "<div>\n",
       "<style scoped>\n",
       "    .dataframe tbody tr th:only-of-type {\n",
       "        vertical-align: middle;\n",
       "    }\n",
       "\n",
       "    .dataframe tbody tr th {\n",
       "        vertical-align: top;\n",
       "    }\n",
       "\n",
       "    .dataframe thead th {\n",
       "        text-align: right;\n",
       "    }\n",
       "</style>\n",
       "<table border=\"1\" class=\"dataframe\">\n",
       "  <thead>\n",
       "    <tr style=\"text-align: right;\">\n",
       "      <th></th>\n",
       "      <th>emp_no</th>\n",
       "      <th>birth_date</th>\n",
       "      <th>first_name</th>\n",
       "      <th>last_name</th>\n",
       "      <th>gender</th>\n",
       "      <th>hire_date</th>\n",
       "      <th>emp_no</th>\n",
       "      <th>salary</th>\n",
       "      <th>from_date</th>\n",
       "      <th>to_date</th>\n",
       "    </tr>\n",
       "  </thead>\n",
       "  <tbody>\n",
       "    <tr>\n",
       "      <th>0</th>\n",
       "      <td>10001</td>\n",
       "      <td>1953-09-02</td>\n",
       "      <td>Georgi</td>\n",
       "      <td>Facello</td>\n",
       "      <td>M</td>\n",
       "      <td>1986-06-26</td>\n",
       "      <td>10001</td>\n",
       "      <td>88958</td>\n",
       "      <td>2002-06-22</td>\n",
       "      <td>9999-01-01</td>\n",
       "    </tr>\n",
       "    <tr>\n",
       "      <th>1</th>\n",
       "      <td>10002</td>\n",
       "      <td>1964-06-02</td>\n",
       "      <td>Bezalel</td>\n",
       "      <td>Simmel</td>\n",
       "      <td>F</td>\n",
       "      <td>1985-11-21</td>\n",
       "      <td>10002</td>\n",
       "      <td>72527</td>\n",
       "      <td>2001-08-02</td>\n",
       "      <td>9999-01-01</td>\n",
       "    </tr>\n",
       "    <tr>\n",
       "      <th>2</th>\n",
       "      <td>10003</td>\n",
       "      <td>1959-12-03</td>\n",
       "      <td>Parto</td>\n",
       "      <td>Bamford</td>\n",
       "      <td>M</td>\n",
       "      <td>1986-08-28</td>\n",
       "      <td>10003</td>\n",
       "      <td>43311</td>\n",
       "      <td>2001-12-01</td>\n",
       "      <td>9999-01-01</td>\n",
       "    </tr>\n",
       "    <tr>\n",
       "      <th>3</th>\n",
       "      <td>10004</td>\n",
       "      <td>1954-05-01</td>\n",
       "      <td>Chirstian</td>\n",
       "      <td>Koblick</td>\n",
       "      <td>M</td>\n",
       "      <td>1986-12-01</td>\n",
       "      <td>10004</td>\n",
       "      <td>74057</td>\n",
       "      <td>2001-11-27</td>\n",
       "      <td>9999-01-01</td>\n",
       "    </tr>\n",
       "    <tr>\n",
       "      <th>4</th>\n",
       "      <td>10005</td>\n",
       "      <td>1955-01-21</td>\n",
       "      <td>Kyoichi</td>\n",
       "      <td>Maliniak</td>\n",
       "      <td>M</td>\n",
       "      <td>1989-09-12</td>\n",
       "      <td>10005</td>\n",
       "      <td>94692</td>\n",
       "      <td>2001-09-09</td>\n",
       "      <td>9999-01-01</td>\n",
       "    </tr>\n",
       "  </tbody>\n",
       "</table>\n",
       "</div>"
      ],
      "text/plain": [
       "   emp_no  birth_date first_name last_name gender   hire_date  emp_no  salary  \\\n",
       "0   10001  1953-09-02     Georgi   Facello      M  1986-06-26   10001   88958   \n",
       "1   10002  1964-06-02    Bezalel    Simmel      F  1985-11-21   10002   72527   \n",
       "2   10003  1959-12-03      Parto   Bamford      M  1986-08-28   10003   43311   \n",
       "3   10004  1954-05-01  Chirstian   Koblick      M  1986-12-01   10004   74057   \n",
       "4   10005  1955-01-21    Kyoichi  Maliniak      M  1989-09-12   10005   94692   \n",
       "\n",
       "    from_date     to_date  \n",
       "0  2002-06-22  9999-01-01  \n",
       "1  2001-08-02  9999-01-01  \n",
       "2  2001-12-01  9999-01-01  \n",
       "3  2001-11-27  9999-01-01  \n",
       "4  2001-09-09  9999-01-01  "
      ]
     },
     "execution_count": 67,
     "metadata": {},
     "output_type": "execute_result"
    }
   ],
   "source": [
    "employees_df.head(5)"
   ]
  },
  {
   "cell_type": "code",
   "execution_count": 73,
   "metadata": {},
   "outputs": [
    {
     "data": {
      "text/plain": [
       "datetime.date(2021, 5, 11)"
      ]
     },
     "execution_count": 73,
     "metadata": {},
     "output_type": "execute_result"
    }
   ],
   "source": [
    "from datetime import date\n",
    "date.today()"
   ]
  },
  {
   "cell_type": "code",
   "execution_count": 76,
   "metadata": {},
   "outputs": [],
   "source": [
    "employees_df['tenure_in_days']= (date.today() - employees_df['hire_date']).dt.days"
   ]
  },
  {
   "cell_type": "code",
   "execution_count": 117,
   "metadata": {},
   "outputs": [
    {
     "data": {
      "text/html": [
       "<div>\n",
       "<style scoped>\n",
       "    .dataframe tbody tr th:only-of-type {\n",
       "        vertical-align: middle;\n",
       "    }\n",
       "\n",
       "    .dataframe tbody tr th {\n",
       "        vertical-align: top;\n",
       "    }\n",
       "\n",
       "    .dataframe thead th {\n",
       "        text-align: right;\n",
       "    }\n",
       "</style>\n",
       "<table border=\"1\" class=\"dataframe\">\n",
       "  <thead>\n",
       "    <tr style=\"text-align: right;\">\n",
       "      <th></th>\n",
       "      <th>emp_no</th>\n",
       "      <th>birth_date</th>\n",
       "      <th>first_name</th>\n",
       "      <th>last_name</th>\n",
       "      <th>gender</th>\n",
       "      <th>hire_date</th>\n",
       "      <th>emp_no</th>\n",
       "      <th>salary</th>\n",
       "      <th>from_date</th>\n",
       "      <th>to_date</th>\n",
       "      <th>tenure_in_days</th>\n",
       "    </tr>\n",
       "  </thead>\n",
       "  <tbody>\n",
       "    <tr>\n",
       "      <th>0</th>\n",
       "      <td>10001</td>\n",
       "      <td>1953-09-02</td>\n",
       "      <td>Georgi</td>\n",
       "      <td>Facello</td>\n",
       "      <td>M</td>\n",
       "      <td>1986-06-26</td>\n",
       "      <td>10001</td>\n",
       "      <td>88958</td>\n",
       "      <td>2002-06-22</td>\n",
       "      <td>9999-01-01</td>\n",
       "      <td>12738</td>\n",
       "    </tr>\n",
       "    <tr>\n",
       "      <th>1</th>\n",
       "      <td>10002</td>\n",
       "      <td>1964-06-02</td>\n",
       "      <td>Bezalel</td>\n",
       "      <td>Simmel</td>\n",
       "      <td>F</td>\n",
       "      <td>1985-11-21</td>\n",
       "      <td>10002</td>\n",
       "      <td>72527</td>\n",
       "      <td>2001-08-02</td>\n",
       "      <td>9999-01-01</td>\n",
       "      <td>12955</td>\n",
       "    </tr>\n",
       "    <tr>\n",
       "      <th>2</th>\n",
       "      <td>10003</td>\n",
       "      <td>1959-12-03</td>\n",
       "      <td>Parto</td>\n",
       "      <td>Bamford</td>\n",
       "      <td>M</td>\n",
       "      <td>1986-08-28</td>\n",
       "      <td>10003</td>\n",
       "      <td>43311</td>\n",
       "      <td>2001-12-01</td>\n",
       "      <td>9999-01-01</td>\n",
       "      <td>12675</td>\n",
       "    </tr>\n",
       "    <tr>\n",
       "      <th>3</th>\n",
       "      <td>10004</td>\n",
       "      <td>1954-05-01</td>\n",
       "      <td>Chirstian</td>\n",
       "      <td>Koblick</td>\n",
       "      <td>M</td>\n",
       "      <td>1986-12-01</td>\n",
       "      <td>10004</td>\n",
       "      <td>74057</td>\n",
       "      <td>2001-11-27</td>\n",
       "      <td>9999-01-01</td>\n",
       "      <td>12580</td>\n",
       "    </tr>\n",
       "    <tr>\n",
       "      <th>4</th>\n",
       "      <td>10005</td>\n",
       "      <td>1955-01-21</td>\n",
       "      <td>Kyoichi</td>\n",
       "      <td>Maliniak</td>\n",
       "      <td>M</td>\n",
       "      <td>1989-09-12</td>\n",
       "      <td>10005</td>\n",
       "      <td>94692</td>\n",
       "      <td>2001-09-09</td>\n",
       "      <td>9999-01-01</td>\n",
       "      <td>11564</td>\n",
       "    </tr>\n",
       "    <tr>\n",
       "      <th>5</th>\n",
       "      <td>10006</td>\n",
       "      <td>1953-04-20</td>\n",
       "      <td>Anneke</td>\n",
       "      <td>Preusig</td>\n",
       "      <td>F</td>\n",
       "      <td>1989-06-02</td>\n",
       "      <td>10006</td>\n",
       "      <td>59755</td>\n",
       "      <td>2001-08-02</td>\n",
       "      <td>9999-01-01</td>\n",
       "      <td>11666</td>\n",
       "    </tr>\n",
       "    <tr>\n",
       "      <th>6</th>\n",
       "      <td>10007</td>\n",
       "      <td>1957-05-23</td>\n",
       "      <td>Tzvetan</td>\n",
       "      <td>Zielinski</td>\n",
       "      <td>F</td>\n",
       "      <td>1989-02-10</td>\n",
       "      <td>10007</td>\n",
       "      <td>88070</td>\n",
       "      <td>2002-02-07</td>\n",
       "      <td>9999-01-01</td>\n",
       "      <td>11778</td>\n",
       "    </tr>\n",
       "    <tr>\n",
       "      <th>7</th>\n",
       "      <td>10009</td>\n",
       "      <td>1952-04-19</td>\n",
       "      <td>Sumant</td>\n",
       "      <td>Peac</td>\n",
       "      <td>F</td>\n",
       "      <td>1985-02-18</td>\n",
       "      <td>10009</td>\n",
       "      <td>94409</td>\n",
       "      <td>2002-02-14</td>\n",
       "      <td>9999-01-01</td>\n",
       "      <td>13231</td>\n",
       "    </tr>\n",
       "    <tr>\n",
       "      <th>8</th>\n",
       "      <td>10010</td>\n",
       "      <td>1963-06-01</td>\n",
       "      <td>Duangkaew</td>\n",
       "      <td>Piveteau</td>\n",
       "      <td>F</td>\n",
       "      <td>1989-08-24</td>\n",
       "      <td>10010</td>\n",
       "      <td>80324</td>\n",
       "      <td>2001-11-23</td>\n",
       "      <td>9999-01-01</td>\n",
       "      <td>11583</td>\n",
       "    </tr>\n",
       "    <tr>\n",
       "      <th>9</th>\n",
       "      <td>10012</td>\n",
       "      <td>1960-10-04</td>\n",
       "      <td>Patricio</td>\n",
       "      <td>Bridgland</td>\n",
       "      <td>M</td>\n",
       "      <td>1992-12-18</td>\n",
       "      <td>10012</td>\n",
       "      <td>54423</td>\n",
       "      <td>2001-12-16</td>\n",
       "      <td>9999-01-01</td>\n",
       "      <td>10371</td>\n",
       "    </tr>\n",
       "    <tr>\n",
       "      <th>10</th>\n",
       "      <td>10013</td>\n",
       "      <td>1963-06-07</td>\n",
       "      <td>Eberhardt</td>\n",
       "      <td>Terkki</td>\n",
       "      <td>M</td>\n",
       "      <td>1985-10-20</td>\n",
       "      <td>10013</td>\n",
       "      <td>68901</td>\n",
       "      <td>2001-10-16</td>\n",
       "      <td>9999-01-01</td>\n",
       "      <td>12987</td>\n",
       "    </tr>\n",
       "    <tr>\n",
       "      <th>11</th>\n",
       "      <td>10014</td>\n",
       "      <td>1956-02-12</td>\n",
       "      <td>Berni</td>\n",
       "      <td>Genin</td>\n",
       "      <td>M</td>\n",
       "      <td>1987-03-11</td>\n",
       "      <td>10014</td>\n",
       "      <td>60598</td>\n",
       "      <td>2001-12-27</td>\n",
       "      <td>9999-01-01</td>\n",
       "      <td>12480</td>\n",
       "    </tr>\n",
       "    <tr>\n",
       "      <th>12</th>\n",
       "      <td>10016</td>\n",
       "      <td>1961-05-02</td>\n",
       "      <td>Kazuhito</td>\n",
       "      <td>Cappelletti</td>\n",
       "      <td>M</td>\n",
       "      <td>1995-01-27</td>\n",
       "      <td>10016</td>\n",
       "      <td>77935</td>\n",
       "      <td>2002-02-10</td>\n",
       "      <td>9999-01-01</td>\n",
       "      <td>9601</td>\n",
       "    </tr>\n",
       "    <tr>\n",
       "      <th>13</th>\n",
       "      <td>10017</td>\n",
       "      <td>1958-07-06</td>\n",
       "      <td>Cristinel</td>\n",
       "      <td>Bouloucos</td>\n",
       "      <td>F</td>\n",
       "      <td>1993-08-03</td>\n",
       "      <td>10017</td>\n",
       "      <td>99651</td>\n",
       "      <td>2002-08-01</td>\n",
       "      <td>9999-01-01</td>\n",
       "      <td>10143</td>\n",
       "    </tr>\n",
       "    <tr>\n",
       "      <th>14</th>\n",
       "      <td>10018</td>\n",
       "      <td>1954-06-19</td>\n",
       "      <td>Kazuhide</td>\n",
       "      <td>Peha</td>\n",
       "      <td>F</td>\n",
       "      <td>1987-04-03</td>\n",
       "      <td>10018</td>\n",
       "      <td>84672</td>\n",
       "      <td>2002-03-30</td>\n",
       "      <td>9999-01-01</td>\n",
       "      <td>12457</td>\n",
       "    </tr>\n",
       "    <tr>\n",
       "      <th>15</th>\n",
       "      <td>10019</td>\n",
       "      <td>1953-01-23</td>\n",
       "      <td>Lillian</td>\n",
       "      <td>Haddadi</td>\n",
       "      <td>M</td>\n",
       "      <td>1999-04-30</td>\n",
       "      <td>10019</td>\n",
       "      <td>50032</td>\n",
       "      <td>2002-04-29</td>\n",
       "      <td>9999-01-01</td>\n",
       "      <td>8047</td>\n",
       "    </tr>\n",
       "    <tr>\n",
       "      <th>16</th>\n",
       "      <td>10020</td>\n",
       "      <td>1952-12-24</td>\n",
       "      <td>Mayuko</td>\n",
       "      <td>Warwick</td>\n",
       "      <td>M</td>\n",
       "      <td>1991-01-26</td>\n",
       "      <td>10020</td>\n",
       "      <td>47017</td>\n",
       "      <td>2001-12-29</td>\n",
       "      <td>9999-01-01</td>\n",
       "      <td>11063</td>\n",
       "    </tr>\n",
       "    <tr>\n",
       "      <th>17</th>\n",
       "      <td>10022</td>\n",
       "      <td>1952-07-08</td>\n",
       "      <td>Shahaf</td>\n",
       "      <td>Famili</td>\n",
       "      <td>M</td>\n",
       "      <td>1995-08-22</td>\n",
       "      <td>10022</td>\n",
       "      <td>41348</td>\n",
       "      <td>2001-09-02</td>\n",
       "      <td>9999-01-01</td>\n",
       "      <td>9394</td>\n",
       "    </tr>\n",
       "    <tr>\n",
       "      <th>18</th>\n",
       "      <td>10023</td>\n",
       "      <td>1953-09-29</td>\n",
       "      <td>Bojan</td>\n",
       "      <td>Montemayor</td>\n",
       "      <td>F</td>\n",
       "      <td>1989-12-17</td>\n",
       "      <td>10023</td>\n",
       "      <td>50113</td>\n",
       "      <td>2001-09-26</td>\n",
       "      <td>9999-01-01</td>\n",
       "      <td>11468</td>\n",
       "    </tr>\n",
       "    <tr>\n",
       "      <th>19</th>\n",
       "      <td>10024</td>\n",
       "      <td>1958-09-05</td>\n",
       "      <td>Suzette</td>\n",
       "      <td>Pettey</td>\n",
       "      <td>F</td>\n",
       "      <td>1997-05-19</td>\n",
       "      <td>10024</td>\n",
       "      <td>96646</td>\n",
       "      <td>2002-06-13</td>\n",
       "      <td>9999-01-01</td>\n",
       "      <td>8758</td>\n",
       "    </tr>\n",
       "    <tr>\n",
       "      <th>20</th>\n",
       "      <td>10026</td>\n",
       "      <td>1953-04-03</td>\n",
       "      <td>Yongqiao</td>\n",
       "      <td>Berztiss</td>\n",
       "      <td>M</td>\n",
       "      <td>1995-03-20</td>\n",
       "      <td>10026</td>\n",
       "      <td>66313</td>\n",
       "      <td>2002-03-18</td>\n",
       "      <td>9999-01-01</td>\n",
       "      <td>9549</td>\n",
       "    </tr>\n",
       "    <tr>\n",
       "      <th>21</th>\n",
       "      <td>10027</td>\n",
       "      <td>1962-07-10</td>\n",
       "      <td>Divier</td>\n",
       "      <td>Reistad</td>\n",
       "      <td>F</td>\n",
       "      <td>1989-07-07</td>\n",
       "      <td>10027</td>\n",
       "      <td>46145</td>\n",
       "      <td>2002-03-31</td>\n",
       "      <td>9999-01-01</td>\n",
       "      <td>11631</td>\n",
       "    </tr>\n",
       "    <tr>\n",
       "      <th>22</th>\n",
       "      <td>10029</td>\n",
       "      <td>1956-12-13</td>\n",
       "      <td>Otmar</td>\n",
       "      <td>Herbst</td>\n",
       "      <td>M</td>\n",
       "      <td>1985-11-20</td>\n",
       "      <td>10029</td>\n",
       "      <td>77777</td>\n",
       "      <td>2001-09-15</td>\n",
       "      <td>9999-01-01</td>\n",
       "      <td>12956</td>\n",
       "    </tr>\n",
       "    <tr>\n",
       "      <th>23</th>\n",
       "      <td>10030</td>\n",
       "      <td>1958-07-14</td>\n",
       "      <td>Elvis</td>\n",
       "      <td>Demeyer</td>\n",
       "      <td>M</td>\n",
       "      <td>1994-02-17</td>\n",
       "      <td>10030</td>\n",
       "      <td>88806</td>\n",
       "      <td>2002-02-15</td>\n",
       "      <td>9999-01-01</td>\n",
       "      <td>9945</td>\n",
       "    </tr>\n",
       "    <tr>\n",
       "      <th>24</th>\n",
       "      <td>10031</td>\n",
       "      <td>1959-01-27</td>\n",
       "      <td>Karsten</td>\n",
       "      <td>Joslin</td>\n",
       "      <td>M</td>\n",
       "      <td>1991-09-01</td>\n",
       "      <td>10031</td>\n",
       "      <td>56689</td>\n",
       "      <td>2001-08-29</td>\n",
       "      <td>9999-01-01</td>\n",
       "      <td>10845</td>\n",
       "    </tr>\n",
       "    <tr>\n",
       "      <th>25</th>\n",
       "      <td>10032</td>\n",
       "      <td>1960-08-09</td>\n",
       "      <td>Jeong</td>\n",
       "      <td>Reistad</td>\n",
       "      <td>F</td>\n",
       "      <td>1990-06-20</td>\n",
       "      <td>10032</td>\n",
       "      <td>69539</td>\n",
       "      <td>2002-06-17</td>\n",
       "      <td>9999-01-01</td>\n",
       "      <td>11283</td>\n",
       "    </tr>\n",
       "    <tr>\n",
       "      <th>26</th>\n",
       "      <td>10035</td>\n",
       "      <td>1953-02-08</td>\n",
       "      <td>Alain</td>\n",
       "      <td>Chappelet</td>\n",
       "      <td>M</td>\n",
       "      <td>1988-09-05</td>\n",
       "      <td>10035</td>\n",
       "      <td>68755</td>\n",
       "      <td>2001-09-02</td>\n",
       "      <td>9999-01-01</td>\n",
       "      <td>11936</td>\n",
       "    </tr>\n",
       "    <tr>\n",
       "      <th>27</th>\n",
       "      <td>10036</td>\n",
       "      <td>1959-08-10</td>\n",
       "      <td>Adamantios</td>\n",
       "      <td>Portugali</td>\n",
       "      <td>M</td>\n",
       "      <td>1992-01-03</td>\n",
       "      <td>10036</td>\n",
       "      <td>63053</td>\n",
       "      <td>2002-04-26</td>\n",
       "      <td>9999-01-01</td>\n",
       "      <td>10721</td>\n",
       "    </tr>\n",
       "    <tr>\n",
       "      <th>28</th>\n",
       "      <td>10037</td>\n",
       "      <td>1963-07-22</td>\n",
       "      <td>Pradeep</td>\n",
       "      <td>Makrucki</td>\n",
       "      <td>M</td>\n",
       "      <td>1990-12-05</td>\n",
       "      <td>10037</td>\n",
       "      <td>60574</td>\n",
       "      <td>2001-12-02</td>\n",
       "      <td>9999-01-01</td>\n",
       "      <td>11115</td>\n",
       "    </tr>\n",
       "    <tr>\n",
       "      <th>29</th>\n",
       "      <td>10038</td>\n",
       "      <td>1960-07-20</td>\n",
       "      <td>Huan</td>\n",
       "      <td>Lortz</td>\n",
       "      <td>M</td>\n",
       "      <td>1989-09-20</td>\n",
       "      <td>10038</td>\n",
       "      <td>64254</td>\n",
       "      <td>2001-09-17</td>\n",
       "      <td>9999-01-01</td>\n",
       "      <td>11556</td>\n",
       "    </tr>\n",
       "    <tr>\n",
       "      <th>30</th>\n",
       "      <td>10039</td>\n",
       "      <td>1959-10-01</td>\n",
       "      <td>Alejandro</td>\n",
       "      <td>Brender</td>\n",
       "      <td>M</td>\n",
       "      <td>1988-01-19</td>\n",
       "      <td>10039</td>\n",
       "      <td>63918</td>\n",
       "      <td>2002-01-15</td>\n",
       "      <td>9999-01-01</td>\n",
       "      <td>12166</td>\n",
       "    </tr>\n",
       "    <tr>\n",
       "      <th>31</th>\n",
       "      <td>10040</td>\n",
       "      <td>1959-09-13</td>\n",
       "      <td>Weiyi</td>\n",
       "      <td>Meriste</td>\n",
       "      <td>F</td>\n",
       "      <td>1993-02-14</td>\n",
       "      <td>10040</td>\n",
       "      <td>72668</td>\n",
       "      <td>2002-02-12</td>\n",
       "      <td>9999-01-01</td>\n",
       "      <td>10313</td>\n",
       "    </tr>\n",
       "    <tr>\n",
       "      <th>32</th>\n",
       "      <td>10041</td>\n",
       "      <td>1959-08-27</td>\n",
       "      <td>Uri</td>\n",
       "      <td>Lenart</td>\n",
       "      <td>F</td>\n",
       "      <td>1989-11-12</td>\n",
       "      <td>10041</td>\n",
       "      <td>81705</td>\n",
       "      <td>2001-11-09</td>\n",
       "      <td>9999-01-01</td>\n",
       "      <td>11503</td>\n",
       "    </tr>\n",
       "    <tr>\n",
       "      <th>33</th>\n",
       "      <td>10043</td>\n",
       "      <td>1960-09-19</td>\n",
       "      <td>Yishay</td>\n",
       "      <td>Tzvieli</td>\n",
       "      <td>M</td>\n",
       "      <td>1990-10-20</td>\n",
       "      <td>10043</td>\n",
       "      <td>77659</td>\n",
       "      <td>2001-10-17</td>\n",
       "      <td>9999-01-01</td>\n",
       "      <td>11161</td>\n",
       "    </tr>\n",
       "    <tr>\n",
       "      <th>34</th>\n",
       "      <td>10044</td>\n",
       "      <td>1961-09-21</td>\n",
       "      <td>Mingsen</td>\n",
       "      <td>Casley</td>\n",
       "      <td>F</td>\n",
       "      <td>1994-05-21</td>\n",
       "      <td>10044</td>\n",
       "      <td>58345</td>\n",
       "      <td>2002-05-19</td>\n",
       "      <td>9999-01-01</td>\n",
       "      <td>9852</td>\n",
       "    </tr>\n",
       "    <tr>\n",
       "      <th>35</th>\n",
       "      <td>10045</td>\n",
       "      <td>1957-08-14</td>\n",
       "      <td>Moss</td>\n",
       "      <td>Shanbhogue</td>\n",
       "      <td>M</td>\n",
       "      <td>1989-09-02</td>\n",
       "      <td>10045</td>\n",
       "      <td>47581</td>\n",
       "      <td>2001-11-15</td>\n",
       "      <td>9999-01-01</td>\n",
       "      <td>11574</td>\n",
       "    </tr>\n",
       "    <tr>\n",
       "      <th>36</th>\n",
       "      <td>10046</td>\n",
       "      <td>1960-07-23</td>\n",
       "      <td>Lucien</td>\n",
       "      <td>Rosenbaum</td>\n",
       "      <td>M</td>\n",
       "      <td>1992-06-20</td>\n",
       "      <td>10046</td>\n",
       "      <td>62218</td>\n",
       "      <td>2002-06-18</td>\n",
       "      <td>9999-01-01</td>\n",
       "      <td>10552</td>\n",
       "    </tr>\n",
       "    <tr>\n",
       "      <th>37</th>\n",
       "      <td>10047</td>\n",
       "      <td>1952-06-29</td>\n",
       "      <td>Zvonko</td>\n",
       "      <td>Nyanchama</td>\n",
       "      <td>M</td>\n",
       "      <td>1989-03-31</td>\n",
       "      <td>10047</td>\n",
       "      <td>81037</td>\n",
       "      <td>2002-03-28</td>\n",
       "      <td>9999-01-01</td>\n",
       "      <td>11729</td>\n",
       "    </tr>\n",
       "    <tr>\n",
       "      <th>38</th>\n",
       "      <td>10049</td>\n",
       "      <td>1961-04-24</td>\n",
       "      <td>Basil</td>\n",
       "      <td>Tramer</td>\n",
       "      <td>F</td>\n",
       "      <td>1992-05-04</td>\n",
       "      <td>10049</td>\n",
       "      <td>51326</td>\n",
       "      <td>2002-05-02</td>\n",
       "      <td>9999-01-01</td>\n",
       "      <td>10599</td>\n",
       "    </tr>\n",
       "    <tr>\n",
       "      <th>39</th>\n",
       "      <td>10050</td>\n",
       "      <td>1958-05-21</td>\n",
       "      <td>Yinghua</td>\n",
       "      <td>Dredge</td>\n",
       "      <td>M</td>\n",
       "      <td>1990-12-25</td>\n",
       "      <td>10050</td>\n",
       "      <td>97830</td>\n",
       "      <td>2001-12-22</td>\n",
       "      <td>9999-01-01</td>\n",
       "      <td>11095</td>\n",
       "    </tr>\n",
       "    <tr>\n",
       "      <th>40</th>\n",
       "      <td>10051</td>\n",
       "      <td>1953-07-28</td>\n",
       "      <td>Hidefumi</td>\n",
       "      <td>Caine</td>\n",
       "      <td>M</td>\n",
       "      <td>1992-10-15</td>\n",
       "      <td>10051</td>\n",
       "      <td>64905</td>\n",
       "      <td>2001-10-13</td>\n",
       "      <td>9999-01-01</td>\n",
       "      <td>10435</td>\n",
       "    </tr>\n",
       "    <tr>\n",
       "      <th>41</th>\n",
       "      <td>10052</td>\n",
       "      <td>1961-02-26</td>\n",
       "      <td>Heping</td>\n",
       "      <td>Nitsch</td>\n",
       "      <td>M</td>\n",
       "      <td>1988-05-21</td>\n",
       "      <td>10052</td>\n",
       "      <td>67156</td>\n",
       "      <td>2002-01-30</td>\n",
       "      <td>9999-01-01</td>\n",
       "      <td>12043</td>\n",
       "    </tr>\n",
       "    <tr>\n",
       "      <th>42</th>\n",
       "      <td>10053</td>\n",
       "      <td>1954-09-13</td>\n",
       "      <td>Sanjiv</td>\n",
       "      <td>Zschoche</td>\n",
       "      <td>F</td>\n",
       "      <td>1986-02-04</td>\n",
       "      <td>10053</td>\n",
       "      <td>78478</td>\n",
       "      <td>2001-11-11</td>\n",
       "      <td>9999-01-01</td>\n",
       "      <td>12880</td>\n",
       "    </tr>\n",
       "    <tr>\n",
       "      <th>43</th>\n",
       "      <td>10054</td>\n",
       "      <td>1957-04-04</td>\n",
       "      <td>Mayumi</td>\n",
       "      <td>Schueller</td>\n",
       "      <td>M</td>\n",
       "      <td>1995-03-13</td>\n",
       "      <td>10054</td>\n",
       "      <td>53906</td>\n",
       "      <td>2002-07-27</td>\n",
       "      <td>9999-01-01</td>\n",
       "      <td>9556</td>\n",
       "    </tr>\n",
       "    <tr>\n",
       "      <th>44</th>\n",
       "      <td>10056</td>\n",
       "      <td>1961-09-01</td>\n",
       "      <td>Brendon</td>\n",
       "      <td>Bernini</td>\n",
       "      <td>F</td>\n",
       "      <td>1990-02-01</td>\n",
       "      <td>10056</td>\n",
       "      <td>74722</td>\n",
       "      <td>2002-01-29</td>\n",
       "      <td>9999-01-01</td>\n",
       "      <td>11422</td>\n",
       "    </tr>\n",
       "    <tr>\n",
       "      <th>45</th>\n",
       "      <td>10057</td>\n",
       "      <td>1954-05-30</td>\n",
       "      <td>Ebbe</td>\n",
       "      <td>Callaway</td>\n",
       "      <td>F</td>\n",
       "      <td>1992-01-15</td>\n",
       "      <td>10057</td>\n",
       "      <td>68061</td>\n",
       "      <td>2002-01-12</td>\n",
       "      <td>9999-01-01</td>\n",
       "      <td>10709</td>\n",
       "    </tr>\n",
       "    <tr>\n",
       "      <th>46</th>\n",
       "      <td>10058</td>\n",
       "      <td>1954-10-01</td>\n",
       "      <td>Berhard</td>\n",
       "      <td>McFarlin</td>\n",
       "      <td>M</td>\n",
       "      <td>1987-04-13</td>\n",
       "      <td>10058</td>\n",
       "      <td>72542</td>\n",
       "      <td>2002-04-22</td>\n",
       "      <td>9999-01-01</td>\n",
       "      <td>12447</td>\n",
       "    </tr>\n",
       "    <tr>\n",
       "      <th>47</th>\n",
       "      <td>10059</td>\n",
       "      <td>1953-09-19</td>\n",
       "      <td>Alejandro</td>\n",
       "      <td>McAlpine</td>\n",
       "      <td>F</td>\n",
       "      <td>1991-06-26</td>\n",
       "      <td>10059</td>\n",
       "      <td>94161</td>\n",
       "      <td>2002-06-23</td>\n",
       "      <td>9999-01-01</td>\n",
       "      <td>10912</td>\n",
       "    </tr>\n",
       "    <tr>\n",
       "      <th>48</th>\n",
       "      <td>10060</td>\n",
       "      <td>1961-10-15</td>\n",
       "      <td>Breannda</td>\n",
       "      <td>Billingsley</td>\n",
       "      <td>M</td>\n",
       "      <td>1987-11-02</td>\n",
       "      <td>10060</td>\n",
       "      <td>93188</td>\n",
       "      <td>2002-05-25</td>\n",
       "      <td>9999-01-01</td>\n",
       "      <td>12244</td>\n",
       "    </tr>\n",
       "    <tr>\n",
       "      <th>49</th>\n",
       "      <td>10061</td>\n",
       "      <td>1962-10-19</td>\n",
       "      <td>Tse</td>\n",
       "      <td>Herber</td>\n",
       "      <td>M</td>\n",
       "      <td>1985-09-17</td>\n",
       "      <td>10061</td>\n",
       "      <td>97338</td>\n",
       "      <td>2001-11-29</td>\n",
       "      <td>9999-01-01</td>\n",
       "      <td>13020</td>\n",
       "    </tr>\n",
       "    <tr>\n",
       "      <th>50</th>\n",
       "      <td>10062</td>\n",
       "      <td>1961-11-02</td>\n",
       "      <td>Anoosh</td>\n",
       "      <td>Peyn</td>\n",
       "      <td>M</td>\n",
       "      <td>1991-08-30</td>\n",
       "      <td>10062</td>\n",
       "      <td>68559</td>\n",
       "      <td>2001-08-27</td>\n",
       "      <td>9999-01-01</td>\n",
       "      <td>10847</td>\n",
       "    </tr>\n",
       "    <tr>\n",
       "      <th>51</th>\n",
       "      <td>10063</td>\n",
       "      <td>1952-08-06</td>\n",
       "      <td>Gino</td>\n",
       "      <td>Leonhardt</td>\n",
       "      <td>F</td>\n",
       "      <td>1989-04-08</td>\n",
       "      <td>10063</td>\n",
       "      <td>74841</td>\n",
       "      <td>2002-04-04</td>\n",
       "      <td>9999-01-01</td>\n",
       "      <td>11721</td>\n",
       "    </tr>\n",
       "    <tr>\n",
       "      <th>52</th>\n",
       "      <td>10065</td>\n",
       "      <td>1963-04-14</td>\n",
       "      <td>Satosi</td>\n",
       "      <td>Awdeh</td>\n",
       "      <td>M</td>\n",
       "      <td>1988-05-18</td>\n",
       "      <td>10065</td>\n",
       "      <td>47437</td>\n",
       "      <td>2002-05-23</td>\n",
       "      <td>9999-01-01</td>\n",
       "      <td>12046</td>\n",
       "    </tr>\n",
       "    <tr>\n",
       "      <th>53</th>\n",
       "      <td>10066</td>\n",
       "      <td>1952-11-13</td>\n",
       "      <td>Kwee</td>\n",
       "      <td>Schusler</td>\n",
       "      <td>M</td>\n",
       "      <td>1986-02-26</td>\n",
       "      <td>10066</td>\n",
       "      <td>103672</td>\n",
       "      <td>2002-02-22</td>\n",
       "      <td>9999-01-01</td>\n",
       "      <td>12858</td>\n",
       "    </tr>\n",
       "    <tr>\n",
       "      <th>54</th>\n",
       "      <td>10067</td>\n",
       "      <td>1953-01-07</td>\n",
       "      <td>Claudi</td>\n",
       "      <td>Stavenow</td>\n",
       "      <td>M</td>\n",
       "      <td>1987-03-04</td>\n",
       "      <td>10067</td>\n",
       "      <td>83254</td>\n",
       "      <td>2002-02-28</td>\n",
       "      <td>9999-01-01</td>\n",
       "      <td>12487</td>\n",
       "    </tr>\n",
       "    <tr>\n",
       "      <th>55</th>\n",
       "      <td>10068</td>\n",
       "      <td>1962-11-26</td>\n",
       "      <td>Charlene</td>\n",
       "      <td>Brattka</td>\n",
       "      <td>M</td>\n",
       "      <td>1987-08-07</td>\n",
       "      <td>10068</td>\n",
       "      <td>113229</td>\n",
       "      <td>2001-08-03</td>\n",
       "      <td>9999-01-01</td>\n",
       "      <td>12331</td>\n",
       "    </tr>\n",
       "    <tr>\n",
       "      <th>56</th>\n",
       "      <td>10069</td>\n",
       "      <td>1960-09-06</td>\n",
       "      <td>Margareta</td>\n",
       "      <td>Bierman</td>\n",
       "      <td>F</td>\n",
       "      <td>1989-11-05</td>\n",
       "      <td>10069</td>\n",
       "      <td>86641</td>\n",
       "      <td>2002-06-12</td>\n",
       "      <td>9999-01-01</td>\n",
       "      <td>11510</td>\n",
       "    </tr>\n",
       "    <tr>\n",
       "      <th>57</th>\n",
       "      <td>10070</td>\n",
       "      <td>1955-08-20</td>\n",
       "      <td>Reuven</td>\n",
       "      <td>Garigliano</td>\n",
       "      <td>M</td>\n",
       "      <td>1985-10-14</td>\n",
       "      <td>10070</td>\n",
       "      <td>96322</td>\n",
       "      <td>2001-10-10</td>\n",
       "      <td>9999-01-01</td>\n",
       "      <td>12993</td>\n",
       "    </tr>\n",
       "    <tr>\n",
       "      <th>58</th>\n",
       "      <td>10071</td>\n",
       "      <td>1958-01-21</td>\n",
       "      <td>Hisao</td>\n",
       "      <td>Lipner</td>\n",
       "      <td>M</td>\n",
       "      <td>1987-10-01</td>\n",
       "      <td>10071</td>\n",
       "      <td>53315</td>\n",
       "      <td>2001-08-03</td>\n",
       "      <td>9999-01-01</td>\n",
       "      <td>12276</td>\n",
       "    </tr>\n",
       "    <tr>\n",
       "      <th>59</th>\n",
       "      <td>10072</td>\n",
       "      <td>1952-05-15</td>\n",
       "      <td>Hironoby</td>\n",
       "      <td>Sidou</td>\n",
       "      <td>F</td>\n",
       "      <td>1988-07-21</td>\n",
       "      <td>10072</td>\n",
       "      <td>64512</td>\n",
       "      <td>2002-05-18</td>\n",
       "      <td>9999-01-01</td>\n",
       "      <td>11982</td>\n",
       "    </tr>\n",
       "    <tr>\n",
       "      <th>60</th>\n",
       "      <td>10074</td>\n",
       "      <td>1955-08-28</td>\n",
       "      <td>Mokhtar</td>\n",
       "      <td>Bernatsky</td>\n",
       "      <td>F</td>\n",
       "      <td>1990-08-13</td>\n",
       "      <td>10074</td>\n",
       "      <td>80820</td>\n",
       "      <td>2001-08-10</td>\n",
       "      <td>9999-01-01</td>\n",
       "      <td>11229</td>\n",
       "    </tr>\n",
       "    <tr>\n",
       "      <th>61</th>\n",
       "      <td>10076</td>\n",
       "      <td>1952-06-13</td>\n",
       "      <td>Erez</td>\n",
       "      <td>Ritzmann</td>\n",
       "      <td>F</td>\n",
       "      <td>1985-07-09</td>\n",
       "      <td>10076</td>\n",
       "      <td>62921</td>\n",
       "      <td>2002-07-14</td>\n",
       "      <td>9999-01-01</td>\n",
       "      <td>13090</td>\n",
       "    </tr>\n",
       "    <tr>\n",
       "      <th>62</th>\n",
       "      <td>10077</td>\n",
       "      <td>1964-04-18</td>\n",
       "      <td>Mona</td>\n",
       "      <td>Azuma</td>\n",
       "      <td>M</td>\n",
       "      <td>1990-03-02</td>\n",
       "      <td>10077</td>\n",
       "      <td>54699</td>\n",
       "      <td>2001-12-21</td>\n",
       "      <td>9999-01-01</td>\n",
       "      <td>11393</td>\n",
       "    </tr>\n",
       "    <tr>\n",
       "      <th>63</th>\n",
       "      <td>10078</td>\n",
       "      <td>1959-12-25</td>\n",
       "      <td>Danel</td>\n",
       "      <td>Mondadori</td>\n",
       "      <td>F</td>\n",
       "      <td>1987-05-26</td>\n",
       "      <td>10078</td>\n",
       "      <td>54652</td>\n",
       "      <td>2001-09-27</td>\n",
       "      <td>9999-01-01</td>\n",
       "      <td>12404</td>\n",
       "    </tr>\n",
       "    <tr>\n",
       "      <th>64</th>\n",
       "      <td>10079</td>\n",
       "      <td>1961-10-05</td>\n",
       "      <td>Kshitij</td>\n",
       "      <td>Gils</td>\n",
       "      <td>F</td>\n",
       "      <td>1986-03-27</td>\n",
       "      <td>10079</td>\n",
       "      <td>67231</td>\n",
       "      <td>2001-12-11</td>\n",
       "      <td>9999-01-01</td>\n",
       "      <td>12829</td>\n",
       "    </tr>\n",
       "    <tr>\n",
       "      <th>65</th>\n",
       "      <td>10080</td>\n",
       "      <td>1957-12-03</td>\n",
       "      <td>Premal</td>\n",
       "      <td>Baek</td>\n",
       "      <td>M</td>\n",
       "      <td>1985-11-19</td>\n",
       "      <td>10080</td>\n",
       "      <td>72729</td>\n",
       "      <td>2001-09-26</td>\n",
       "      <td>9999-01-01</td>\n",
       "      <td>12957</td>\n",
       "    </tr>\n",
       "    <tr>\n",
       "      <th>66</th>\n",
       "      <td>10081</td>\n",
       "      <td>1960-12-17</td>\n",
       "      <td>Zhongwei</td>\n",
       "      <td>Rosen</td>\n",
       "      <td>M</td>\n",
       "      <td>1986-10-30</td>\n",
       "      <td>10081</td>\n",
       "      <td>79351</td>\n",
       "      <td>2001-10-26</td>\n",
       "      <td>9999-01-01</td>\n",
       "      <td>12612</td>\n",
       "    </tr>\n",
       "    <tr>\n",
       "      <th>67</th>\n",
       "      <td>10083</td>\n",
       "      <td>1959-07-23</td>\n",
       "      <td>Vishv</td>\n",
       "      <td>Zockler</td>\n",
       "      <td>M</td>\n",
       "      <td>1987-03-31</td>\n",
       "      <td>10083</td>\n",
       "      <td>77186</td>\n",
       "      <td>2002-03-27</td>\n",
       "      <td>9999-01-01</td>\n",
       "      <td>12460</td>\n",
       "    </tr>\n",
       "    <tr>\n",
       "      <th>68</th>\n",
       "      <td>10084</td>\n",
       "      <td>1960-05-25</td>\n",
       "      <td>Tuval</td>\n",
       "      <td>Kalloufi</td>\n",
       "      <td>M</td>\n",
       "      <td>1995-12-15</td>\n",
       "      <td>10084</td>\n",
       "      <td>93621</td>\n",
       "      <td>2001-12-13</td>\n",
       "      <td>9999-01-01</td>\n",
       "      <td>9279</td>\n",
       "    </tr>\n",
       "    <tr>\n",
       "      <th>69</th>\n",
       "      <td>10085</td>\n",
       "      <td>1962-11-07</td>\n",
       "      <td>Kenroku</td>\n",
       "      <td>Malabarba</td>\n",
       "      <td>M</td>\n",
       "      <td>1994-04-09</td>\n",
       "      <td>10085</td>\n",
       "      <td>60910</td>\n",
       "      <td>2002-04-06</td>\n",
       "      <td>9999-01-01</td>\n",
       "      <td>9894</td>\n",
       "    </tr>\n",
       "    <tr>\n",
       "      <th>70</th>\n",
       "      <td>10086</td>\n",
       "      <td>1962-11-19</td>\n",
       "      <td>Somnath</td>\n",
       "      <td>Foote</td>\n",
       "      <td>M</td>\n",
       "      <td>1990-02-16</td>\n",
       "      <td>10086</td>\n",
       "      <td>96333</td>\n",
       "      <td>2002-02-16</td>\n",
       "      <td>9999-01-01</td>\n",
       "      <td>11407</td>\n",
       "    </tr>\n",
       "    <tr>\n",
       "      <th>71</th>\n",
       "      <td>10088</td>\n",
       "      <td>1954-02-25</td>\n",
       "      <td>Jungsoon</td>\n",
       "      <td>Syrzycki</td>\n",
       "      <td>F</td>\n",
       "      <td>1988-09-02</td>\n",
       "      <td>10088</td>\n",
       "      <td>98003</td>\n",
       "      <td>2001-08-30</td>\n",
       "      <td>9999-01-01</td>\n",
       "      <td>11939</td>\n",
       "    </tr>\n",
       "    <tr>\n",
       "      <th>72</th>\n",
       "      <td>10089</td>\n",
       "      <td>1963-03-21</td>\n",
       "      <td>Sudharsan</td>\n",
       "      <td>Flasterstein</td>\n",
       "      <td>F</td>\n",
       "      <td>1986-08-12</td>\n",
       "      <td>10089</td>\n",
       "      <td>77955</td>\n",
       "      <td>2002-01-07</td>\n",
       "      <td>9999-01-01</td>\n",
       "      <td>12691</td>\n",
       "    </tr>\n",
       "    <tr>\n",
       "      <th>73</th>\n",
       "      <td>10091</td>\n",
       "      <td>1955-10-04</td>\n",
       "      <td>Amabile</td>\n",
       "      <td>Gomatam</td>\n",
       "      <td>M</td>\n",
       "      <td>1992-11-18</td>\n",
       "      <td>10091</td>\n",
       "      <td>60014</td>\n",
       "      <td>2001-11-16</td>\n",
       "      <td>9999-01-01</td>\n",
       "      <td>10401</td>\n",
       "    </tr>\n",
       "    <tr>\n",
       "      <th>74</th>\n",
       "      <td>10092</td>\n",
       "      <td>1964-10-18</td>\n",
       "      <td>Valdiodio</td>\n",
       "      <td>Niizuma</td>\n",
       "      <td>F</td>\n",
       "      <td>1989-09-22</td>\n",
       "      <td>10092</td>\n",
       "      <td>66803</td>\n",
       "      <td>2002-04-21</td>\n",
       "      <td>9999-01-01</td>\n",
       "      <td>11554</td>\n",
       "    </tr>\n",
       "    <tr>\n",
       "      <th>75</th>\n",
       "      <td>10093</td>\n",
       "      <td>1964-06-11</td>\n",
       "      <td>Sailaja</td>\n",
       "      <td>Desikan</td>\n",
       "      <td>M</td>\n",
       "      <td>1996-11-05</td>\n",
       "      <td>10093</td>\n",
       "      <td>82715</td>\n",
       "      <td>2002-06-07</td>\n",
       "      <td>9999-01-01</td>\n",
       "      <td>8953</td>\n",
       "    </tr>\n",
       "    <tr>\n",
       "      <th>76</th>\n",
       "      <td>10095</td>\n",
       "      <td>1965-01-03</td>\n",
       "      <td>Hilari</td>\n",
       "      <td>Morton</td>\n",
       "      <td>M</td>\n",
       "      <td>1986-07-15</td>\n",
       "      <td>10095</td>\n",
       "      <td>80955</td>\n",
       "      <td>2002-03-08</td>\n",
       "      <td>9999-01-01</td>\n",
       "      <td>12719</td>\n",
       "    </tr>\n",
       "    <tr>\n",
       "      <th>77</th>\n",
       "      <td>10096</td>\n",
       "      <td>1954-09-16</td>\n",
       "      <td>Jayson</td>\n",
       "      <td>Mandell</td>\n",
       "      <td>M</td>\n",
       "      <td>1990-01-14</td>\n",
       "      <td>10096</td>\n",
       "      <td>68612</td>\n",
       "      <td>2002-01-22</td>\n",
       "      <td>9999-01-01</td>\n",
       "      <td>11440</td>\n",
       "    </tr>\n",
       "    <tr>\n",
       "      <th>78</th>\n",
       "      <td>10097</td>\n",
       "      <td>1952-02-27</td>\n",
       "      <td>Remzi</td>\n",
       "      <td>Waschkowski</td>\n",
       "      <td>M</td>\n",
       "      <td>1990-09-15</td>\n",
       "      <td>10097</td>\n",
       "      <td>70161</td>\n",
       "      <td>2001-09-12</td>\n",
       "      <td>9999-01-01</td>\n",
       "      <td>11196</td>\n",
       "    </tr>\n",
       "    <tr>\n",
       "      <th>79</th>\n",
       "      <td>10099</td>\n",
       "      <td>1956-05-25</td>\n",
       "      <td>Valter</td>\n",
       "      <td>Sullins</td>\n",
       "      <td>F</td>\n",
       "      <td>1988-10-18</td>\n",
       "      <td>10099</td>\n",
       "      <td>98538</td>\n",
       "      <td>2001-10-15</td>\n",
       "      <td>9999-01-01</td>\n",
       "      <td>11893</td>\n",
       "    </tr>\n",
       "    <tr>\n",
       "      <th>80</th>\n",
       "      <td>10100</td>\n",
       "      <td>1953-04-21</td>\n",
       "      <td>Hironobu</td>\n",
       "      <td>Haraldson</td>\n",
       "      <td>F</td>\n",
       "      <td>1987-09-21</td>\n",
       "      <td>10100</td>\n",
       "      <td>74957</td>\n",
       "      <td>2001-09-17</td>\n",
       "      <td>9999-01-01</td>\n",
       "      <td>12286</td>\n",
       "    </tr>\n",
       "    <tr>\n",
       "      <th>81</th>\n",
       "      <td>10102</td>\n",
       "      <td>1959-11-04</td>\n",
       "      <td>Paraskevi</td>\n",
       "      <td>Luby</td>\n",
       "      <td>F</td>\n",
       "      <td>1994-01-26</td>\n",
       "      <td>10102</td>\n",
       "      <td>61059</td>\n",
       "      <td>2001-12-31</td>\n",
       "      <td>9999-01-01</td>\n",
       "      <td>9967</td>\n",
       "    </tr>\n",
       "    <tr>\n",
       "      <th>82</th>\n",
       "      <td>10103</td>\n",
       "      <td>1953-11-26</td>\n",
       "      <td>Akemi</td>\n",
       "      <td>Birch</td>\n",
       "      <td>M</td>\n",
       "      <td>1986-12-02</td>\n",
       "      <td>10103</td>\n",
       "      <td>80061</td>\n",
       "      <td>2002-01-11</td>\n",
       "      <td>9999-01-01</td>\n",
       "      <td>12579</td>\n",
       "    </tr>\n",
       "    <tr>\n",
       "      <th>83</th>\n",
       "      <td>10104</td>\n",
       "      <td>1961-11-19</td>\n",
       "      <td>Xinyu</td>\n",
       "      <td>Warwick</td>\n",
       "      <td>M</td>\n",
       "      <td>1987-04-16</td>\n",
       "      <td>10104</td>\n",
       "      <td>81788</td>\n",
       "      <td>2002-04-12</td>\n",
       "      <td>9999-01-01</td>\n",
       "      <td>12444</td>\n",
       "    </tr>\n",
       "    <tr>\n",
       "      <th>84</th>\n",
       "      <td>10106</td>\n",
       "      <td>1952-08-29</td>\n",
       "      <td>Eben</td>\n",
       "      <td>Aingworth</td>\n",
       "      <td>M</td>\n",
       "      <td>1990-12-19</td>\n",
       "      <td>10106</td>\n",
       "      <td>82836</td>\n",
       "      <td>2001-10-24</td>\n",
       "      <td>9999-01-01</td>\n",
       "      <td>11101</td>\n",
       "    </tr>\n",
       "    <tr>\n",
       "      <th>85</th>\n",
       "      <td>10107</td>\n",
       "      <td>1956-06-13</td>\n",
       "      <td>Dung</td>\n",
       "      <td>Baca</td>\n",
       "      <td>F</td>\n",
       "      <td>1994-03-22</td>\n",
       "      <td>10107</td>\n",
       "      <td>101676</td>\n",
       "      <td>2002-03-29</td>\n",
       "      <td>9999-01-01</td>\n",
       "      <td>9912</td>\n",
       "    </tr>\n",
       "    <tr>\n",
       "      <th>86</th>\n",
       "      <td>10109</td>\n",
       "      <td>1958-11-25</td>\n",
       "      <td>Mariusz</td>\n",
       "      <td>Prampolini</td>\n",
       "      <td>F</td>\n",
       "      <td>1993-06-16</td>\n",
       "      <td>10109</td>\n",
       "      <td>52721</td>\n",
       "      <td>2002-06-14</td>\n",
       "      <td>9999-01-01</td>\n",
       "      <td>10191</td>\n",
       "    </tr>\n",
       "    <tr>\n",
       "      <th>87</th>\n",
       "      <td>10110</td>\n",
       "      <td>1957-03-07</td>\n",
       "      <td>Xuejia</td>\n",
       "      <td>Ullian</td>\n",
       "      <td>F</td>\n",
       "      <td>1986-08-22</td>\n",
       "      <td>10110</td>\n",
       "      <td>92842</td>\n",
       "      <td>2001-08-18</td>\n",
       "      <td>9999-01-01</td>\n",
       "      <td>12681</td>\n",
       "    </tr>\n",
       "    <tr>\n",
       "      <th>88</th>\n",
       "      <td>10111</td>\n",
       "      <td>1963-08-29</td>\n",
       "      <td>Hugo</td>\n",
       "      <td>Rosis</td>\n",
       "      <td>F</td>\n",
       "      <td>1988-06-19</td>\n",
       "      <td>10111</td>\n",
       "      <td>56641</td>\n",
       "      <td>2001-12-16</td>\n",
       "      <td>9999-01-01</td>\n",
       "      <td>12014</td>\n",
       "    </tr>\n",
       "    <tr>\n",
       "      <th>89</th>\n",
       "      <td>10112</td>\n",
       "      <td>1963-08-13</td>\n",
       "      <td>Yuichiro</td>\n",
       "      <td>Swick</td>\n",
       "      <td>F</td>\n",
       "      <td>1985-10-08</td>\n",
       "      <td>10112</td>\n",
       "      <td>61070</td>\n",
       "      <td>2002-04-30</td>\n",
       "      <td>9999-01-01</td>\n",
       "      <td>12999</td>\n",
       "    </tr>\n",
       "    <tr>\n",
       "      <th>90</th>\n",
       "      <td>10113</td>\n",
       "      <td>1963-11-13</td>\n",
       "      <td>Jaewon</td>\n",
       "      <td>Syrzycki</td>\n",
       "      <td>M</td>\n",
       "      <td>1989-12-24</td>\n",
       "      <td>10113</td>\n",
       "      <td>75209</td>\n",
       "      <td>2001-09-13</td>\n",
       "      <td>9999-01-01</td>\n",
       "      <td>11461</td>\n",
       "    </tr>\n",
       "    <tr>\n",
       "      <th>91</th>\n",
       "      <td>10114</td>\n",
       "      <td>1957-02-16</td>\n",
       "      <td>Munir</td>\n",
       "      <td>Demeyer</td>\n",
       "      <td>F</td>\n",
       "      <td>1992-07-17</td>\n",
       "      <td>10114</td>\n",
       "      <td>64083</td>\n",
       "      <td>2002-07-15</td>\n",
       "      <td>9999-01-01</td>\n",
       "      <td>10525</td>\n",
       "    </tr>\n",
       "    <tr>\n",
       "      <th>92</th>\n",
       "      <td>10117</td>\n",
       "      <td>1961-10-24</td>\n",
       "      <td>Kiyotoshi</td>\n",
       "      <td>Blokdijk</td>\n",
       "      <td>F</td>\n",
       "      <td>1990-05-28</td>\n",
       "      <td>10117</td>\n",
       "      <td>75936</td>\n",
       "      <td>2002-03-17</td>\n",
       "      <td>9999-01-01</td>\n",
       "      <td>11306</td>\n",
       "    </tr>\n",
       "    <tr>\n",
       "      <th>93</th>\n",
       "      <td>10118</td>\n",
       "      <td>1957-03-29</td>\n",
       "      <td>Zhonghui</td>\n",
       "      <td>Zyda</td>\n",
       "      <td>F</td>\n",
       "      <td>1990-09-13</td>\n",
       "      <td>10118</td>\n",
       "      <td>55284</td>\n",
       "      <td>2002-01-30</td>\n",
       "      <td>9999-01-01</td>\n",
       "      <td>11198</td>\n",
       "    </tr>\n",
       "    <tr>\n",
       "      <th>94</th>\n",
       "      <td>10120</td>\n",
       "      <td>1960-03-26</td>\n",
       "      <td>Armond</td>\n",
       "      <td>Fairtlough</td>\n",
       "      <td>F</td>\n",
       "      <td>1996-07-06</td>\n",
       "      <td>10120</td>\n",
       "      <td>59279</td>\n",
       "      <td>2002-07-05</td>\n",
       "      <td>9999-01-01</td>\n",
       "      <td>9075</td>\n",
       "    </tr>\n",
       "    <tr>\n",
       "      <th>95</th>\n",
       "      <td>10121</td>\n",
       "      <td>1962-07-14</td>\n",
       "      <td>Guoxiang</td>\n",
       "      <td>Ramsay</td>\n",
       "      <td>M</td>\n",
       "      <td>1989-05-03</td>\n",
       "      <td>10121</td>\n",
       "      <td>66834</td>\n",
       "      <td>2002-04-30</td>\n",
       "      <td>9999-01-01</td>\n",
       "      <td>11696</td>\n",
       "    </tr>\n",
       "    <tr>\n",
       "      <th>96</th>\n",
       "      <td>10122</td>\n",
       "      <td>1965-01-19</td>\n",
       "      <td>Ohad</td>\n",
       "      <td>Esposito</td>\n",
       "      <td>M</td>\n",
       "      <td>1992-12-23</td>\n",
       "      <td>10122</td>\n",
       "      <td>48464</td>\n",
       "      <td>2001-08-05</td>\n",
       "      <td>9999-01-01</td>\n",
       "      <td>10366</td>\n",
       "    </tr>\n",
       "    <tr>\n",
       "      <th>97</th>\n",
       "      <td>10123</td>\n",
       "      <td>1962-05-12</td>\n",
       "      <td>Hinrich</td>\n",
       "      <td>Randi</td>\n",
       "      <td>M</td>\n",
       "      <td>1993-01-15</td>\n",
       "      <td>10123</td>\n",
       "      <td>92601</td>\n",
       "      <td>2002-01-13</td>\n",
       "      <td>9999-01-01</td>\n",
       "      <td>10343</td>\n",
       "    </tr>\n",
       "    <tr>\n",
       "      <th>98</th>\n",
       "      <td>10124</td>\n",
       "      <td>1962-05-23</td>\n",
       "      <td>Geraldo</td>\n",
       "      <td>Marwedel</td>\n",
       "      <td>M</td>\n",
       "      <td>1991-09-05</td>\n",
       "      <td>10124</td>\n",
       "      <td>58460</td>\n",
       "      <td>2001-09-02</td>\n",
       "      <td>9999-01-01</td>\n",
       "      <td>10841</td>\n",
       "    </tr>\n",
       "    <tr>\n",
       "      <th>99</th>\n",
       "      <td>10126</td>\n",
       "      <td>1954-08-07</td>\n",
       "      <td>Kayoko</td>\n",
       "      <td>Valtorta</td>\n",
       "      <td>M</td>\n",
       "      <td>1985-09-08</td>\n",
       "      <td>10126</td>\n",
       "      <td>77310</td>\n",
       "      <td>2001-09-04</td>\n",
       "      <td>9999-01-01</td>\n",
       "      <td>13029</td>\n",
       "    </tr>\n",
       "  </tbody>\n",
       "</table>\n",
       "</div>"
      ],
      "text/plain": [
       "    emp_no  birth_date  first_name     last_name gender   hire_date  emp_no  \\\n",
       "0    10001  1953-09-02      Georgi       Facello      M  1986-06-26   10001   \n",
       "1    10002  1964-06-02     Bezalel        Simmel      F  1985-11-21   10002   \n",
       "2    10003  1959-12-03       Parto       Bamford      M  1986-08-28   10003   \n",
       "3    10004  1954-05-01   Chirstian       Koblick      M  1986-12-01   10004   \n",
       "4    10005  1955-01-21     Kyoichi      Maliniak      M  1989-09-12   10005   \n",
       "5    10006  1953-04-20      Anneke       Preusig      F  1989-06-02   10006   \n",
       "6    10007  1957-05-23     Tzvetan     Zielinski      F  1989-02-10   10007   \n",
       "7    10009  1952-04-19      Sumant          Peac      F  1985-02-18   10009   \n",
       "8    10010  1963-06-01   Duangkaew      Piveteau      F  1989-08-24   10010   \n",
       "9    10012  1960-10-04    Patricio     Bridgland      M  1992-12-18   10012   \n",
       "10   10013  1963-06-07   Eberhardt        Terkki      M  1985-10-20   10013   \n",
       "11   10014  1956-02-12       Berni         Genin      M  1987-03-11   10014   \n",
       "12   10016  1961-05-02    Kazuhito   Cappelletti      M  1995-01-27   10016   \n",
       "13   10017  1958-07-06   Cristinel     Bouloucos      F  1993-08-03   10017   \n",
       "14   10018  1954-06-19    Kazuhide          Peha      F  1987-04-03   10018   \n",
       "15   10019  1953-01-23     Lillian       Haddadi      M  1999-04-30   10019   \n",
       "16   10020  1952-12-24      Mayuko       Warwick      M  1991-01-26   10020   \n",
       "17   10022  1952-07-08      Shahaf        Famili      M  1995-08-22   10022   \n",
       "18   10023  1953-09-29       Bojan    Montemayor      F  1989-12-17   10023   \n",
       "19   10024  1958-09-05     Suzette        Pettey      F  1997-05-19   10024   \n",
       "20   10026  1953-04-03    Yongqiao      Berztiss      M  1995-03-20   10026   \n",
       "21   10027  1962-07-10      Divier       Reistad      F  1989-07-07   10027   \n",
       "22   10029  1956-12-13       Otmar        Herbst      M  1985-11-20   10029   \n",
       "23   10030  1958-07-14       Elvis       Demeyer      M  1994-02-17   10030   \n",
       "24   10031  1959-01-27     Karsten        Joslin      M  1991-09-01   10031   \n",
       "25   10032  1960-08-09       Jeong       Reistad      F  1990-06-20   10032   \n",
       "26   10035  1953-02-08       Alain     Chappelet      M  1988-09-05   10035   \n",
       "27   10036  1959-08-10  Adamantios     Portugali      M  1992-01-03   10036   \n",
       "28   10037  1963-07-22     Pradeep      Makrucki      M  1990-12-05   10037   \n",
       "29   10038  1960-07-20        Huan         Lortz      M  1989-09-20   10038   \n",
       "30   10039  1959-10-01   Alejandro       Brender      M  1988-01-19   10039   \n",
       "31   10040  1959-09-13       Weiyi       Meriste      F  1993-02-14   10040   \n",
       "32   10041  1959-08-27         Uri        Lenart      F  1989-11-12   10041   \n",
       "33   10043  1960-09-19      Yishay       Tzvieli      M  1990-10-20   10043   \n",
       "34   10044  1961-09-21     Mingsen        Casley      F  1994-05-21   10044   \n",
       "35   10045  1957-08-14        Moss    Shanbhogue      M  1989-09-02   10045   \n",
       "36   10046  1960-07-23      Lucien     Rosenbaum      M  1992-06-20   10046   \n",
       "37   10047  1952-06-29      Zvonko     Nyanchama      M  1989-03-31   10047   \n",
       "38   10049  1961-04-24       Basil        Tramer      F  1992-05-04   10049   \n",
       "39   10050  1958-05-21     Yinghua        Dredge      M  1990-12-25   10050   \n",
       "40   10051  1953-07-28    Hidefumi         Caine      M  1992-10-15   10051   \n",
       "41   10052  1961-02-26      Heping        Nitsch      M  1988-05-21   10052   \n",
       "42   10053  1954-09-13      Sanjiv      Zschoche      F  1986-02-04   10053   \n",
       "43   10054  1957-04-04      Mayumi     Schueller      M  1995-03-13   10054   \n",
       "44   10056  1961-09-01     Brendon       Bernini      F  1990-02-01   10056   \n",
       "45   10057  1954-05-30        Ebbe      Callaway      F  1992-01-15   10057   \n",
       "46   10058  1954-10-01     Berhard      McFarlin      M  1987-04-13   10058   \n",
       "47   10059  1953-09-19   Alejandro      McAlpine      F  1991-06-26   10059   \n",
       "48   10060  1961-10-15    Breannda   Billingsley      M  1987-11-02   10060   \n",
       "49   10061  1962-10-19         Tse        Herber      M  1985-09-17   10061   \n",
       "50   10062  1961-11-02      Anoosh          Peyn      M  1991-08-30   10062   \n",
       "51   10063  1952-08-06        Gino     Leonhardt      F  1989-04-08   10063   \n",
       "52   10065  1963-04-14      Satosi         Awdeh      M  1988-05-18   10065   \n",
       "53   10066  1952-11-13        Kwee      Schusler      M  1986-02-26   10066   \n",
       "54   10067  1953-01-07      Claudi      Stavenow      M  1987-03-04   10067   \n",
       "55   10068  1962-11-26    Charlene       Brattka      M  1987-08-07   10068   \n",
       "56   10069  1960-09-06   Margareta       Bierman      F  1989-11-05   10069   \n",
       "57   10070  1955-08-20      Reuven    Garigliano      M  1985-10-14   10070   \n",
       "58   10071  1958-01-21       Hisao        Lipner      M  1987-10-01   10071   \n",
       "59   10072  1952-05-15    Hironoby         Sidou      F  1988-07-21   10072   \n",
       "60   10074  1955-08-28     Mokhtar     Bernatsky      F  1990-08-13   10074   \n",
       "61   10076  1952-06-13        Erez      Ritzmann      F  1985-07-09   10076   \n",
       "62   10077  1964-04-18        Mona         Azuma      M  1990-03-02   10077   \n",
       "63   10078  1959-12-25       Danel     Mondadori      F  1987-05-26   10078   \n",
       "64   10079  1961-10-05     Kshitij          Gils      F  1986-03-27   10079   \n",
       "65   10080  1957-12-03      Premal          Baek      M  1985-11-19   10080   \n",
       "66   10081  1960-12-17    Zhongwei         Rosen      M  1986-10-30   10081   \n",
       "67   10083  1959-07-23       Vishv       Zockler      M  1987-03-31   10083   \n",
       "68   10084  1960-05-25       Tuval      Kalloufi      M  1995-12-15   10084   \n",
       "69   10085  1962-11-07     Kenroku     Malabarba      M  1994-04-09   10085   \n",
       "70   10086  1962-11-19     Somnath         Foote      M  1990-02-16   10086   \n",
       "71   10088  1954-02-25    Jungsoon      Syrzycki      F  1988-09-02   10088   \n",
       "72   10089  1963-03-21   Sudharsan  Flasterstein      F  1986-08-12   10089   \n",
       "73   10091  1955-10-04     Amabile       Gomatam      M  1992-11-18   10091   \n",
       "74   10092  1964-10-18   Valdiodio       Niizuma      F  1989-09-22   10092   \n",
       "75   10093  1964-06-11     Sailaja       Desikan      M  1996-11-05   10093   \n",
       "76   10095  1965-01-03      Hilari        Morton      M  1986-07-15   10095   \n",
       "77   10096  1954-09-16      Jayson       Mandell      M  1990-01-14   10096   \n",
       "78   10097  1952-02-27       Remzi   Waschkowski      M  1990-09-15   10097   \n",
       "79   10099  1956-05-25      Valter       Sullins      F  1988-10-18   10099   \n",
       "80   10100  1953-04-21    Hironobu     Haraldson      F  1987-09-21   10100   \n",
       "81   10102  1959-11-04   Paraskevi          Luby      F  1994-01-26   10102   \n",
       "82   10103  1953-11-26       Akemi         Birch      M  1986-12-02   10103   \n",
       "83   10104  1961-11-19       Xinyu       Warwick      M  1987-04-16   10104   \n",
       "84   10106  1952-08-29        Eben     Aingworth      M  1990-12-19   10106   \n",
       "85   10107  1956-06-13        Dung          Baca      F  1994-03-22   10107   \n",
       "86   10109  1958-11-25     Mariusz    Prampolini      F  1993-06-16   10109   \n",
       "87   10110  1957-03-07      Xuejia        Ullian      F  1986-08-22   10110   \n",
       "88   10111  1963-08-29        Hugo         Rosis      F  1988-06-19   10111   \n",
       "89   10112  1963-08-13    Yuichiro         Swick      F  1985-10-08   10112   \n",
       "90   10113  1963-11-13      Jaewon      Syrzycki      M  1989-12-24   10113   \n",
       "91   10114  1957-02-16       Munir       Demeyer      F  1992-07-17   10114   \n",
       "92   10117  1961-10-24   Kiyotoshi      Blokdijk      F  1990-05-28   10117   \n",
       "93   10118  1957-03-29    Zhonghui          Zyda      F  1990-09-13   10118   \n",
       "94   10120  1960-03-26      Armond    Fairtlough      F  1996-07-06   10120   \n",
       "95   10121  1962-07-14    Guoxiang        Ramsay      M  1989-05-03   10121   \n",
       "96   10122  1965-01-19        Ohad      Esposito      M  1992-12-23   10122   \n",
       "97   10123  1962-05-12     Hinrich         Randi      M  1993-01-15   10123   \n",
       "98   10124  1962-05-23     Geraldo      Marwedel      M  1991-09-05   10124   \n",
       "99   10126  1954-08-07      Kayoko      Valtorta      M  1985-09-08   10126   \n",
       "\n",
       "    salary   from_date     to_date  tenure_in_days  \n",
       "0    88958  2002-06-22  9999-01-01           12738  \n",
       "1    72527  2001-08-02  9999-01-01           12955  \n",
       "2    43311  2001-12-01  9999-01-01           12675  \n",
       "3    74057  2001-11-27  9999-01-01           12580  \n",
       "4    94692  2001-09-09  9999-01-01           11564  \n",
       "5    59755  2001-08-02  9999-01-01           11666  \n",
       "6    88070  2002-02-07  9999-01-01           11778  \n",
       "7    94409  2002-02-14  9999-01-01           13231  \n",
       "8    80324  2001-11-23  9999-01-01           11583  \n",
       "9    54423  2001-12-16  9999-01-01           10371  \n",
       "10   68901  2001-10-16  9999-01-01           12987  \n",
       "11   60598  2001-12-27  9999-01-01           12480  \n",
       "12   77935  2002-02-10  9999-01-01            9601  \n",
       "13   99651  2002-08-01  9999-01-01           10143  \n",
       "14   84672  2002-03-30  9999-01-01           12457  \n",
       "15   50032  2002-04-29  9999-01-01            8047  \n",
       "16   47017  2001-12-29  9999-01-01           11063  \n",
       "17   41348  2001-09-02  9999-01-01            9394  \n",
       "18   50113  2001-09-26  9999-01-01           11468  \n",
       "19   96646  2002-06-13  9999-01-01            8758  \n",
       "20   66313  2002-03-18  9999-01-01            9549  \n",
       "21   46145  2002-03-31  9999-01-01           11631  \n",
       "22   77777  2001-09-15  9999-01-01           12956  \n",
       "23   88806  2002-02-15  9999-01-01            9945  \n",
       "24   56689  2001-08-29  9999-01-01           10845  \n",
       "25   69539  2002-06-17  9999-01-01           11283  \n",
       "26   68755  2001-09-02  9999-01-01           11936  \n",
       "27   63053  2002-04-26  9999-01-01           10721  \n",
       "28   60574  2001-12-02  9999-01-01           11115  \n",
       "29   64254  2001-09-17  9999-01-01           11556  \n",
       "30   63918  2002-01-15  9999-01-01           12166  \n",
       "31   72668  2002-02-12  9999-01-01           10313  \n",
       "32   81705  2001-11-09  9999-01-01           11503  \n",
       "33   77659  2001-10-17  9999-01-01           11161  \n",
       "34   58345  2002-05-19  9999-01-01            9852  \n",
       "35   47581  2001-11-15  9999-01-01           11574  \n",
       "36   62218  2002-06-18  9999-01-01           10552  \n",
       "37   81037  2002-03-28  9999-01-01           11729  \n",
       "38   51326  2002-05-02  9999-01-01           10599  \n",
       "39   97830  2001-12-22  9999-01-01           11095  \n",
       "40   64905  2001-10-13  9999-01-01           10435  \n",
       "41   67156  2002-01-30  9999-01-01           12043  \n",
       "42   78478  2001-11-11  9999-01-01           12880  \n",
       "43   53906  2002-07-27  9999-01-01            9556  \n",
       "44   74722  2002-01-29  9999-01-01           11422  \n",
       "45   68061  2002-01-12  9999-01-01           10709  \n",
       "46   72542  2002-04-22  9999-01-01           12447  \n",
       "47   94161  2002-06-23  9999-01-01           10912  \n",
       "48   93188  2002-05-25  9999-01-01           12244  \n",
       "49   97338  2001-11-29  9999-01-01           13020  \n",
       "50   68559  2001-08-27  9999-01-01           10847  \n",
       "51   74841  2002-04-04  9999-01-01           11721  \n",
       "52   47437  2002-05-23  9999-01-01           12046  \n",
       "53  103672  2002-02-22  9999-01-01           12858  \n",
       "54   83254  2002-02-28  9999-01-01           12487  \n",
       "55  113229  2001-08-03  9999-01-01           12331  \n",
       "56   86641  2002-06-12  9999-01-01           11510  \n",
       "57   96322  2001-10-10  9999-01-01           12993  \n",
       "58   53315  2001-08-03  9999-01-01           12276  \n",
       "59   64512  2002-05-18  9999-01-01           11982  \n",
       "60   80820  2001-08-10  9999-01-01           11229  \n",
       "61   62921  2002-07-14  9999-01-01           13090  \n",
       "62   54699  2001-12-21  9999-01-01           11393  \n",
       "63   54652  2001-09-27  9999-01-01           12404  \n",
       "64   67231  2001-12-11  9999-01-01           12829  \n",
       "65   72729  2001-09-26  9999-01-01           12957  \n",
       "66   79351  2001-10-26  9999-01-01           12612  \n",
       "67   77186  2002-03-27  9999-01-01           12460  \n",
       "68   93621  2001-12-13  9999-01-01            9279  \n",
       "69   60910  2002-04-06  9999-01-01            9894  \n",
       "70   96333  2002-02-16  9999-01-01           11407  \n",
       "71   98003  2001-08-30  9999-01-01           11939  \n",
       "72   77955  2002-01-07  9999-01-01           12691  \n",
       "73   60014  2001-11-16  9999-01-01           10401  \n",
       "74   66803  2002-04-21  9999-01-01           11554  \n",
       "75   82715  2002-06-07  9999-01-01            8953  \n",
       "76   80955  2002-03-08  9999-01-01           12719  \n",
       "77   68612  2002-01-22  9999-01-01           11440  \n",
       "78   70161  2001-09-12  9999-01-01           11196  \n",
       "79   98538  2001-10-15  9999-01-01           11893  \n",
       "80   74957  2001-09-17  9999-01-01           12286  \n",
       "81   61059  2001-12-31  9999-01-01            9967  \n",
       "82   80061  2002-01-11  9999-01-01           12579  \n",
       "83   81788  2002-04-12  9999-01-01           12444  \n",
       "84   82836  2001-10-24  9999-01-01           11101  \n",
       "85  101676  2002-03-29  9999-01-01            9912  \n",
       "86   52721  2002-06-14  9999-01-01           10191  \n",
       "87   92842  2001-08-18  9999-01-01           12681  \n",
       "88   56641  2001-12-16  9999-01-01           12014  \n",
       "89   61070  2002-04-30  9999-01-01           12999  \n",
       "90   75209  2001-09-13  9999-01-01           11461  \n",
       "91   64083  2002-07-15  9999-01-01           10525  \n",
       "92   75936  2002-03-17  9999-01-01           11306  \n",
       "93   55284  2002-01-30  9999-01-01           11198  \n",
       "94   59279  2002-07-05  9999-01-01            9075  \n",
       "95   66834  2002-04-30  9999-01-01           11696  \n",
       "96   48464  2001-08-05  9999-01-01           10366  \n",
       "97   92601  2002-01-13  9999-01-01           10343  \n",
       "98   58460  2001-09-02  9999-01-01           10841  \n",
       "99   77310  2001-09-04  9999-01-01           13029  "
      ]
     },
     "execution_count": 117,
     "metadata": {},
     "output_type": "execute_result"
    }
   ],
   "source": [
    "employees_df.head(100)"
   ]
  },
  {
   "cell_type": "code",
   "execution_count": 123,
   "metadata": {},
   "outputs": [
    {
     "data": {
      "text/plain": [
       "<matplotlib.collections.PathCollection at 0x7f9e1a05e3a0>"
      ]
     },
     "execution_count": 123,
     "metadata": {},
     "output_type": "execute_result"
    },
    {
     "data": {
      "image/png": "[encoded data removed]",
      "text/plain": [
       "<Figure size 432x288 with 1 Axes>"
      ]
     },
     "metadata": {
      "needs_background": "light"
     },
     "output_type": "display_data"
    }
   ],
   "source": [
    "x = employees_df.tenure_in_days\n",
    "y=employees_df.salary\n",
    "plt.xlim(0,13000)\n",
    "plt.scatter(x,y)"
   ]
  },
  {
   "cell_type": "code",
   "execution_count": 79,
   "metadata": {},
   "outputs": [],
   "source": [
    "corr, p = stats.pearsonr(x,y)"
   ]
  },
  {
   "cell_type": "code",
   "execution_count": 80,
   "metadata": {},
   "outputs": [
    {
     "data": {
      "text/plain": [
       "0.3064625613186078"
      ]
     },
     "execution_count": 80,
     "metadata": {},
     "output_type": "execute_result"
    }
   ],
   "source": [
    "corr"
   ]
  },
  {
   "cell_type": "code",
   "execution_count": 81,
   "metadata": {},
   "outputs": [
    {
     "data": {
      "text/plain": [
       "0.0"
      ]
     },
     "execution_count": 81,
     "metadata": {},
     "output_type": "execute_result"
    }
   ],
   "source": [
    "p"
   ]
  },
  {
   "cell_type": "code",
   "execution_count": 82,
   "metadata": {},
   "outputs": [],
   "source": [
    "#There is a weak positive correlation between salary and tenure of the employee. \n"
   ]
  },
  {
   "cell_type": "raw",
   "metadata": {},
   "source": [
    "Is there a relationship between how long an employee has been with the company and the number of titles they have had?"
   ]
  },
  {
   "cell_type": "code",
   "execution_count": 83,
   "metadata": {},
   "outputs": [],
   "source": [
    "titles_df = pd.read_sql('select * from titles', employees_url)"
   ]
  },
  {
   "cell_type": "code",
   "execution_count": 87,
   "metadata": {},
   "outputs": [],
   "source": [
    "count_titles_df=titles_df.groupby('emp_no').count()\n"
   ]
  },
  {
   "cell_type": "code",
   "execution_count": 89,
   "metadata": {},
   "outputs": [],
   "source": [
    "titles_and_count = pd.merge(titles_df, count_titles_df, how = 'left', on='emp_no')"
   ]
  },
  {
   "cell_type": "code",
   "execution_count": 91,
   "metadata": {},
   "outputs": [
    {
     "data": {
      "text/html": [
       "<div>\n",
       "<style scoped>\n",
       "    .dataframe tbody tr th:only-of-type {\n",
       "        vertical-align: middle;\n",
       "    }\n",
       "\n",
       "    .dataframe tbody tr th {\n",
       "        vertical-align: top;\n",
       "    }\n",
       "\n",
       "    .dataframe thead th {\n",
       "        text-align: right;\n",
       "    }\n",
       "</style>\n",
       "<table border=\"1\" class=\"dataframe\">\n",
       "  <thead>\n",
       "    <tr style=\"text-align: right;\">\n",
       "      <th></th>\n",
       "      <th>emp_no</th>\n",
       "      <th>title_x</th>\n",
       "      <th>from_date_x</th>\n",
       "      <th>to_date_x</th>\n",
       "      <th>title_y</th>\n",
       "      <th>from_date_y</th>\n",
       "      <th>to_date_y</th>\n",
       "    </tr>\n",
       "  </thead>\n",
       "  <tbody>\n",
       "    <tr>\n",
       "      <th>0</th>\n",
       "      <td>10001</td>\n",
       "      <td>Senior Engineer</td>\n",
       "      <td>1986-06-26</td>\n",
       "      <td>9999-01-01</td>\n",
       "      <td>1</td>\n",
       "      <td>1</td>\n",
       "      <td>1</td>\n",
       "    </tr>\n",
       "    <tr>\n",
       "      <th>1</th>\n",
       "      <td>10002</td>\n",
       "      <td>Staff</td>\n",
       "      <td>1996-08-03</td>\n",
       "      <td>9999-01-01</td>\n",
       "      <td>1</td>\n",
       "      <td>1</td>\n",
       "      <td>1</td>\n",
       "    </tr>\n",
       "    <tr>\n",
       "      <th>2</th>\n",
       "      <td>10003</td>\n",
       "      <td>Senior Engineer</td>\n",
       "      <td>1995-12-03</td>\n",
       "      <td>9999-01-01</td>\n",
       "      <td>1</td>\n",
       "      <td>1</td>\n",
       "      <td>1</td>\n",
       "    </tr>\n",
       "    <tr>\n",
       "      <th>3</th>\n",
       "      <td>10004</td>\n",
       "      <td>Engineer</td>\n",
       "      <td>1986-12-01</td>\n",
       "      <td>1995-12-01</td>\n",
       "      <td>2</td>\n",
       "      <td>2</td>\n",
       "      <td>2</td>\n",
       "    </tr>\n",
       "    <tr>\n",
       "      <th>4</th>\n",
       "      <td>10004</td>\n",
       "      <td>Senior Engineer</td>\n",
       "      <td>1995-12-01</td>\n",
       "      <td>9999-01-01</td>\n",
       "      <td>2</td>\n",
       "      <td>2</td>\n",
       "      <td>2</td>\n",
       "    </tr>\n",
       "  </tbody>\n",
       "</table>\n",
       "</div>"
      ],
      "text/plain": [
       "   emp_no          title_x from_date_x   to_date_x  title_y  from_date_y  \\\n",
       "0   10001  Senior Engineer  1986-06-26  9999-01-01        1            1   \n",
       "1   10002            Staff  1996-08-03  9999-01-01        1            1   \n",
       "2   10003  Senior Engineer  1995-12-03  9999-01-01        1            1   \n",
       "3   10004         Engineer  1986-12-01  1995-12-01        2            2   \n",
       "4   10004  Senior Engineer  1995-12-01  9999-01-01        2            2   \n",
       "\n",
       "   to_date_y  \n",
       "0          1  \n",
       "1          1  \n",
       "2          1  \n",
       "3          2  \n",
       "4          2  "
      ]
     },
     "execution_count": 91,
     "metadata": {},
     "output_type": "execute_result"
    }
   ],
   "source": [
    "titles_and_count.head(5)"
   ]
  },
  {
   "cell_type": "code",
   "execution_count": 94,
   "metadata": {},
   "outputs": [],
   "source": [
    "titles_and_count['tenure_in_days']= (date.today() - titles_and_count['from_date_x']).dt.days"
   ]
  },
  {
   "cell_type": "code",
   "execution_count": 103,
   "metadata": {},
   "outputs": [],
   "source": [
    "x = titles_and_count.tenure_in_days\n",
    "y = titles_and_count.title_y"
   ]
  },
  {
   "cell_type": "code",
   "execution_count": 104,
   "metadata": {},
   "outputs": [],
   "source": [
    "corr, p = stats.pearsonr(x,y)"
   ]
  },
  {
   "cell_type": "code",
   "execution_count": 105,
   "metadata": {},
   "outputs": [
    {
     "data": {
      "text/plain": [
       "(0.07658055230442137, 0.0)"
      ]
     },
     "execution_count": 105,
     "metadata": {},
     "output_type": "execute_result"
    }
   ],
   "source": [
    "corr, p"
   ]
  },
  {
   "cell_type": "code",
   "execution_count": 106,
   "metadata": {},
   "outputs": [
    {
     "data": {
      "text/plain": [
       "<matplotlib.collections.PathCollection at 0x7f9e33e09610>"
      ]
     },
     "execution_count": 106,
     "metadata": {},
     "output_type": "execute_result"
    },
    {
     "data": {
      "image/png": "[encoded data removed]",
      "text/plain": [
       "<Figure size 432x288 with 1 Axes>"
      ]
     },
     "metadata": {
      "needs_background": "light"
     },
     "output_type": "display_data"
    }
   ],
   "source": [
    "plt.scatter(x,y)"
   ]
  },
  {
   "cell_type": "raw",
   "metadata": {},
   "source": [
    "3.) Use the sleepstudy data. Is there a relationship between days and reaction time?"
   ]
  },
  {
   "cell_type": "code",
   "execution_count": 107,
   "metadata": {},
   "outputs": [],
   "source": [
    "sleep_df = data('sleepstudy')"
   ]
  },
  {
   "cell_type": "code",
   "execution_count": 108,
   "metadata": {},
   "outputs": [
    {
     "name": "stdout",
     "output_type": "stream",
     "text": [
      "<class 'pandas.core.frame.DataFrame'>\n",
      "Int64Index: 180 entries, 1 to 180\n",
      "Data columns (total 3 columns):\n",
      " #   Column    Non-Null Count  Dtype  \n",
      "---  ------    --------------  -----  \n",
      " 0   Reaction  180 non-null    float64\n",
      " 1   Days      180 non-null    int64  \n",
      " 2   Subject   180 non-null    int64  \n",
      "dtypes: float64(1), int64(2)\n",
      "memory usage: 5.6 KB\n"
     ]
    }
   ],
   "source": [
    "sleep_df.info()"
   ]
  },
  {
   "cell_type": "code",
   "execution_count": 109,
   "metadata": {},
   "outputs": [],
   "source": [
    "x = sleep_df.Days\n",
    "y = sleep_df.Reaction"
   ]
  },
  {
   "cell_type": "code",
   "execution_count": 110,
   "metadata": {},
   "outputs": [
    {
     "data": {
      "text/plain": [
       "<matplotlib.collections.PathCollection at 0x7f9e2c4e2070>"
      ]
     },
     "execution_count": 110,
     "metadata": {},
     "output_type": "execute_result"
    },
    {
     "data": {
      "image/png": "[encoded data removed]",
      "text/plain": [
       "<Figure size 432x288 with 1 Axes>"
      ]
     },
     "metadata": {
      "needs_background": "light"
     },
     "output_type": "display_data"
    }
   ],
   "source": [
    "plt.scatter(x,y)"
   ]
  },
  {
   "cell_type": "code",
   "execution_count": 111,
   "metadata": {},
   "outputs": [],
   "source": [
    "corr, p = stats.pearsonr(x,y)"
   ]
  },
  {
   "cell_type": "code",
   "execution_count": 112,
   "metadata": {},
   "outputs": [
    {
     "data": {
      "text/plain": [
       "(0.5352302262650253, 9.894096322214812e-15)"
      ]
     },
     "execution_count": 112,
     "metadata": {},
     "output_type": "execute_result"
    }
   ],
   "source": [
    "corr, p"
   ]
  },
  {
   "cell_type": "code",
   "execution_count": 2,
   "metadata": {},
   "outputs": [],
   "source": [
    "#moderately positive relationship between days and reaction time"
   ]
  },
  {
   "cell_type": "markdown",
   "metadata": {},
   "source": [
    "# Chi Squared Exercises"
   ]
  },
  {
   "cell_type": "raw",
   "metadata": {},
   "source": [
    "Use the following contingency table to help answer the question of whether using a macbook and being a codeup student are independent of each other."
   ]
  },
  {
   "cell_type": "code",
   "execution_count": 47,
   "metadata": {},
   "outputs": [],
   "source": [
    "a = .01"
   ]
  },
  {
   "cell_type": "code",
   "execution_count": 43,
   "metadata": {},
   "outputs": [],
   "source": [
    "index = ['mac_user', 'not_mac_user']\n",
    "columns = ['Codeup_student', 'Non_Codeup_student']\n",
    "\n",
    "observed = pd.DataFrame([[49, 20], [1, 30]], index=index, columns=columns)\n",
    "n = observed.values.sum()\n"
   ]
  },
  {
   "cell_type": "code",
   "execution_count": 44,
   "metadata": {},
   "outputs": [
    {
     "data": {
      "text/html": [
       "<div>\n",
       "<style scoped>\n",
       "    .dataframe tbody tr th:only-of-type {\n",
       "        vertical-align: middle;\n",
       "    }\n",
       "\n",
       "    .dataframe tbody tr th {\n",
       "        vertical-align: top;\n",
       "    }\n",
       "\n",
       "    .dataframe thead th {\n",
       "        text-align: right;\n",
       "    }\n",
       "</style>\n",
       "<table border=\"1\" class=\"dataframe\">\n",
       "  <thead>\n",
       "    <tr style=\"text-align: right;\">\n",
       "      <th></th>\n",
       "      <th>Codeup_student</th>\n",
       "      <th>Non_Codeup_student</th>\n",
       "    </tr>\n",
       "  </thead>\n",
       "  <tbody>\n",
       "    <tr>\n",
       "      <th>mac_user</th>\n",
       "      <td>49</td>\n",
       "      <td>20</td>\n",
       "    </tr>\n",
       "    <tr>\n",
       "      <th>not_mac_user</th>\n",
       "      <td>1</td>\n",
       "      <td>30</td>\n",
       "    </tr>\n",
       "  </tbody>\n",
       "</table>\n",
       "</div>"
      ],
      "text/plain": [
       "              Codeup_student  Non_Codeup_student\n",
       "mac_user                  49                  20\n",
       "not_mac_user               1                  30"
      ]
     },
     "execution_count": 44,
     "metadata": {},
     "output_type": "execute_result"
    }
   ],
   "source": [
    "observed"
   ]
  },
  {
   "cell_type": "code",
   "execution_count": 45,
   "metadata": {},
   "outputs": [],
   "source": [
    "chi2, p, degf, expected = stats.chi2_contingency(observed)"
   ]
  },
  {
   "cell_type": "code",
   "execution_count": 46,
   "metadata": {},
   "outputs": [
    {
     "name": "stdout",
     "output_type": "stream",
     "text": [
      "Observed\n",
      "\n",
      "[[49 20]\n",
      " [ 1 30]]\n",
      "---\n",
      "Expected\n",
      "\n",
      "[[34.5 34.5]\n",
      " [15.5 15.5]]\n",
      "---\n",
      "\n",
      "chi^2 = 36.6526\n",
      "p     = 0.0000\n"
     ]
    }
   ],
   "source": [
    "print('Observed\\n')\n",
    "print(observed.values)\n",
    "print('---\\nExpected\\n')\n",
    "print(expected)\n",
    "print('---\\n')\n",
    "print(f'chi^2 = {chi2:.4f}')\n",
    "print(f'p     = {p:.4f}')"
   ]
  },
  {
   "cell_type": "code",
   "execution_count": 48,
   "metadata": {},
   "outputs": [
    {
     "name": "stdout",
     "output_type": "stream",
     "text": [
      "Reject null hypothesis\n"
     ]
    }
   ],
   "source": [
    "if p < a:\n",
    "    print(\"Reject null hypothesis\")\n",
    "else:\n",
    "    print(\"Fail to reject null hypothesis\")"
   ]
  },
  {
   "cell_type": "code",
   "execution_count": 49,
   "metadata": {},
   "outputs": [],
   "source": [
    "#There is evidence to suggest that being a mac user and codeup student are not independent. "
   ]
  },
  {
   "cell_type": "raw",
   "metadata": {},
   "source": [
    "2.) Choose another 2 categorical variables from the mpg dataset and perform a \n",
    "chi^2 contingency table test with them. Be sure to state your null and alternative hypotheses.\n",
    "\n",
    "Ho: Transmission and class type are independent.\n",
    "Ha: Transmission and class type are not independent."
   ]
  },
  {
   "cell_type": "code",
   "execution_count": 52,
   "metadata": {},
   "outputs": [],
   "source": [
    "mpg_df = data('mpg')"
   ]
  },
  {
   "cell_type": "code",
   "execution_count": 58,
   "metadata": {},
   "outputs": [],
   "source": [
    "mpg_df['transmission'] = mpg_df['trans'].str[:4]"
   ]
  },
  {
   "cell_type": "code",
   "execution_count": 64,
   "metadata": {},
   "outputs": [
    {
     "data": {
      "text/html": [
       "<div>\n",
       "<style scoped>\n",
       "    .dataframe tbody tr th:only-of-type {\n",
       "        vertical-align: middle;\n",
       "    }\n",
       "\n",
       "    .dataframe tbody tr th {\n",
       "        vertical-align: top;\n",
       "    }\n",
       "\n",
       "    .dataframe thead th {\n",
       "        text-align: right;\n",
       "    }\n",
       "</style>\n",
       "<table border=\"1\" class=\"dataframe\">\n",
       "  <thead>\n",
       "    <tr style=\"text-align: right;\">\n",
       "      <th>class</th>\n",
       "      <th>2seater</th>\n",
       "      <th>compact</th>\n",
       "      <th>midsize</th>\n",
       "      <th>minivan</th>\n",
       "      <th>pickup</th>\n",
       "      <th>subcompact</th>\n",
       "      <th>suv</th>\n",
       "    </tr>\n",
       "    <tr>\n",
       "      <th>transmission</th>\n",
       "      <th></th>\n",
       "      <th></th>\n",
       "      <th></th>\n",
       "      <th></th>\n",
       "      <th></th>\n",
       "      <th></th>\n",
       "      <th></th>\n",
       "    </tr>\n",
       "  </thead>\n",
       "  <tbody>\n",
       "    <tr>\n",
       "      <th>auto</th>\n",
       "      <td>2</td>\n",
       "      <td>24</td>\n",
       "      <td>29</td>\n",
       "      <td>11</td>\n",
       "      <td>20</td>\n",
       "      <td>16</td>\n",
       "      <td>55</td>\n",
       "    </tr>\n",
       "    <tr>\n",
       "      <th>manu</th>\n",
       "      <td>3</td>\n",
       "      <td>23</td>\n",
       "      <td>12</td>\n",
       "      <td>0</td>\n",
       "      <td>13</td>\n",
       "      <td>19</td>\n",
       "      <td>7</td>\n",
       "    </tr>\n",
       "  </tbody>\n",
       "</table>\n",
       "</div>"
      ],
      "text/plain": [
       "class         2seater  compact  midsize  minivan  pickup  subcompact  suv\n",
       "transmission                                                             \n",
       "auto                2       24       29       11      20          16   55\n",
       "manu                3       23       12        0      13          19    7"
      ]
     },
     "execution_count": 64,
     "metadata": {},
     "output_type": "execute_result"
    }
   ],
   "source": [
    "observed = pd.crosstab(mpg_df.transmission, mpg_df['class'])\n",
    "observed"
   ]
  },
  {
   "cell_type": "code",
   "execution_count": 65,
   "metadata": {},
   "outputs": [],
   "source": [
    "chi2, p, degf, expected = stats.chi2_contingency(observed)"
   ]
  },
  {
   "cell_type": "code",
   "execution_count": 66,
   "metadata": {},
   "outputs": [
    {
     "name": "stdout",
     "output_type": "stream",
     "text": [
      "Observed\n",
      "\n",
      "[[ 2 24 29 11 20 16 55]\n",
      " [ 3 23 12  0 13 19  7]]\n",
      "---\n",
      "Expected\n",
      "\n",
      "[[ 3.35470085 31.53418803 27.50854701  7.38034188 22.14102564 23.48290598\n",
      "  41.5982906 ]\n",
      " [ 1.64529915 15.46581197 13.49145299  3.61965812 10.85897436 11.51709402\n",
      "  20.4017094 ]]\n",
      "---\n",
      "\n",
      "chi^2 = 33.7700\n",
      "p     = 0.0000\n"
     ]
    }
   ],
   "source": [
    "print('Observed\\n')\n",
    "print(observed.values)\n",
    "print('---\\nExpected\\n')\n",
    "print(expected)\n",
    "print('---\\n')\n",
    "print(f'chi^2 = {chi2:.4f}')\n",
    "print(f'p     = {p:.4f}')"
   ]
  },
  {
   "cell_type": "code",
   "execution_count": 68,
   "metadata": {},
   "outputs": [
    {
     "name": "stdout",
     "output_type": "stream",
     "text": [
      "Reject null hypothesis, transmission and class type are not independent\n"
     ]
    }
   ],
   "source": [
    "if p < a:\n",
    "    print(\"Reject null hypothesis, transmission and class type are not independent\")\n",
    "else:\n",
    "    print(\"Fail to reject null hypothesis, transmission and class type are independent\")"
   ]
  },
  {
   "cell_type": "markdown",
   "metadata": {},
   "source": [
    "3.) Use the data from the employees database to answer these questions:"
   ]
  },
  {
   "cell_type": "code",
   "execution_count": 71,
   "metadata": {},
   "outputs": [],
   "source": [
    "from env import get_db_url\n",
    "url = get_db_url('employees')"
   ]
  },
  {
   "cell_type": "code",
   "execution_count": 74,
   "metadata": {},
   "outputs": [
    {
     "data": {
      "text/html": [
       "<div>\n",
       "<style scoped>\n",
       "    .dataframe tbody tr th:only-of-type {\n",
       "        vertical-align: middle;\n",
       "    }\n",
       "\n",
       "    .dataframe tbody tr th {\n",
       "        vertical-align: top;\n",
       "    }\n",
       "\n",
       "    .dataframe thead th {\n",
       "        text-align: right;\n",
       "    }\n",
       "</style>\n",
       "<table border=\"1\" class=\"dataframe\">\n",
       "  <thead>\n",
       "    <tr style=\"text-align: right;\">\n",
       "      <th></th>\n",
       "      <th>emp_no</th>\n",
       "      <th>dept_no</th>\n",
       "      <th>from_date</th>\n",
       "      <th>to_date</th>\n",
       "      <th>gender</th>\n",
       "      <th>dept_name</th>\n",
       "    </tr>\n",
       "  </thead>\n",
       "  <tbody>\n",
       "    <tr>\n",
       "      <th>0</th>\n",
       "      <td>10038</td>\n",
       "      <td>d009</td>\n",
       "      <td>1989-09-20</td>\n",
       "      <td>9999-01-01</td>\n",
       "      <td>M</td>\n",
       "      <td>Customer Service</td>\n",
       "    </tr>\n",
       "    <tr>\n",
       "      <th>1</th>\n",
       "      <td>10049</td>\n",
       "      <td>d009</td>\n",
       "      <td>1992-05-04</td>\n",
       "      <td>9999-01-01</td>\n",
       "      <td>F</td>\n",
       "      <td>Customer Service</td>\n",
       "    </tr>\n",
       "    <tr>\n",
       "      <th>2</th>\n",
       "      <td>10060</td>\n",
       "      <td>d009</td>\n",
       "      <td>1992-11-11</td>\n",
       "      <td>9999-01-01</td>\n",
       "      <td>M</td>\n",
       "      <td>Customer Service</td>\n",
       "    </tr>\n",
       "    <tr>\n",
       "      <th>3</th>\n",
       "      <td>10088</td>\n",
       "      <td>d009</td>\n",
       "      <td>1992-03-21</td>\n",
       "      <td>9999-01-01</td>\n",
       "      <td>F</td>\n",
       "      <td>Customer Service</td>\n",
       "    </tr>\n",
       "    <tr>\n",
       "      <th>4</th>\n",
       "      <td>10112</td>\n",
       "      <td>d009</td>\n",
       "      <td>1998-05-01</td>\n",
       "      <td>9999-01-01</td>\n",
       "      <td>F</td>\n",
       "      <td>Customer Service</td>\n",
       "    </tr>\n",
       "    <tr>\n",
       "      <th>...</th>\n",
       "      <td>...</td>\n",
       "      <td>...</td>\n",
       "      <td>...</td>\n",
       "      <td>...</td>\n",
       "      <td>...</td>\n",
       "      <td>...</td>\n",
       "    </tr>\n",
       "    <tr>\n",
       "      <th>240119</th>\n",
       "      <td>499966</td>\n",
       "      <td>d007</td>\n",
       "      <td>1985-06-13</td>\n",
       "      <td>9999-01-01</td>\n",
       "      <td>F</td>\n",
       "      <td>Sales</td>\n",
       "    </tr>\n",
       "    <tr>\n",
       "      <th>240120</th>\n",
       "      <td>499976</td>\n",
       "      <td>d007</td>\n",
       "      <td>1988-12-26</td>\n",
       "      <td>9999-01-01</td>\n",
       "      <td>M</td>\n",
       "      <td>Sales</td>\n",
       "    </tr>\n",
       "    <tr>\n",
       "      <th>240121</th>\n",
       "      <td>499980</td>\n",
       "      <td>d007</td>\n",
       "      <td>1991-02-11</td>\n",
       "      <td>9999-01-01</td>\n",
       "      <td>M</td>\n",
       "      <td>Sales</td>\n",
       "    </tr>\n",
       "    <tr>\n",
       "      <th>240122</th>\n",
       "      <td>499986</td>\n",
       "      <td>d007</td>\n",
       "      <td>1985-08-11</td>\n",
       "      <td>9999-01-01</td>\n",
       "      <td>F</td>\n",
       "      <td>Sales</td>\n",
       "    </tr>\n",
       "    <tr>\n",
       "      <th>240123</th>\n",
       "      <td>499987</td>\n",
       "      <td>d007</td>\n",
       "      <td>1999-12-21</td>\n",
       "      <td>9999-01-01</td>\n",
       "      <td>F</td>\n",
       "      <td>Sales</td>\n",
       "    </tr>\n",
       "  </tbody>\n",
       "</table>\n",
       "<p>240124 rows × 6 columns</p>\n",
       "</div>"
      ],
      "text/plain": [
       "        emp_no dept_no   from_date     to_date gender         dept_name\n",
       "0        10038    d009  1989-09-20  9999-01-01      M  Customer Service\n",
       "1        10049    d009  1992-05-04  9999-01-01      F  Customer Service\n",
       "2        10060    d009  1992-11-11  9999-01-01      M  Customer Service\n",
       "3        10088    d009  1992-03-21  9999-01-01      F  Customer Service\n",
       "4        10112    d009  1998-05-01  9999-01-01      F  Customer Service\n",
       "...        ...     ...         ...         ...    ...               ...\n",
       "240119  499966    d007  1985-06-13  9999-01-01      F             Sales\n",
       "240120  499976    d007  1988-12-26  9999-01-01      M             Sales\n",
       "240121  499980    d007  1991-02-11  9999-01-01      M             Sales\n",
       "240122  499986    d007  1985-08-11  9999-01-01      F             Sales\n",
       "240123  499987    d007  1999-12-21  9999-01-01      F             Sales\n",
       "\n",
       "[240124 rows x 6 columns]"
      ]
     },
     "execution_count": 74,
     "metadata": {},
     "output_type": "execute_result"
    }
   ],
   "source": [
    "pd.read_sql(\"\"\"select emp_no, dept_no, from_date, to_date, gender, dept_name \n",
    "from dept_emp\n",
    "join employees using(emp_no)\n",
    "join departments using(dept_no)\n",
    "where to_date > curdate()\n",
    "\"\"\",url)"
   ]
  },
  {
   "cell_type": "code",
   "execution_count": null,
   "metadata": {},
   "outputs": [],
   "source": []
  }
 ],
 "metadata": {
  "kernelspec": {
   "display_name": "Python 3",
   "language": "python",
   "name": "python3"
  },
  "language_info": {
   "codemirror_mode": {
    "name": "ipython",
    "version": 3
   },
   "file_extension": ".py",
   "mimetype": "text/x-python",
   "name": "python",
   "nbconvert_exporter": "python",
   "pygments_lexer": "ipython3",
   "version": "3.8.5"
  }
 },
 "nbformat": 4,
 "nbformat_minor": 4
}
