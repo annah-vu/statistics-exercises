{
 "cells": [
  {
   "cell_type": "code",
   "execution_count": 27,
   "metadata": {},
   "outputs": [],
   "source": [
    "from math import sqrt\n",
    "from scipy import stats\n",
    "\n",
    "%matplotlib inline\n",
    "import matplotlib.pyplot as plt\n",
    "import numpy as np\n",
    "import pandas as pd\n",
    "from pydataset import data"
   ]
  },
  {
   "cell_type": "raw",
   "metadata": {},
   "source": [
    "For each of the following questions, formulate a null and alternative hypothesis (be as specific as you can be), then give an example of what a true positive, true negative, type I and type II errors would look like. \n",
    "Note that some of the questions are intentionally phrased in a vague way. It is your job to reword these as more precise questions that could be tested."
   ]
  },
  {
   "cell_type": "raw",
   "metadata": {},
   "source": [
    "\n",
    "#1.) Has the network latency gone up since we switched internet service providers?\n",
    "H0: Network latency has stayed the same since we switched providers.\n",
    "Ha: Network latency has gone up since we switched providers.\n",
    "\n",
    "True Positive: We reject the null hypothesis, and network latency has actually increased.\n",
    "\n",
    "True Negative: We fail to reject network latency has stayed the same, and network latency has stayed the same. \n",
    "\t\n",
    "Type 1 Error: Network latency stayed the same, but we said that it has gone up.\n",
    "Type 2 Error: Network latency increased, but we said that it stayed the same. \n"
   ]
  },
  {
   "cell_type": "raw",
   "metadata": {},
   "source": [
    "\n",
    "#2.) Is the website redesign any good?\n",
    "\tH0: The website redesign made no change\n",
    "\tHa: The website redesign is better than the original, traffic has increased.\n",
    "\t\n",
    "True Positive: The redesign is better than the original, and it really is.\n",
    "True Negative: The website redesign made no change, and it really didn’t. \n",
    "Type 1 Error: The website redesign made no change, but we said that it is better.\n",
    "Type 2 Error: The website redesign is better, but we said there was no change.\n",
    "\n"
   ]
  },
  {
   "cell_type": "raw",
   "metadata": {},
   "source": [
    "#3.) Is our television ad driving more sales?\n",
    "H0: our sales have remained the same with the ad.\n",
    "Ha: our sales have increased since the ad. \n",
    "True Positive: We say the ad has increased our sales, and it did.\n",
    "True Negative: We say sales haven’t changed, because they haven’t.\n",
    "Type 1 Error: Our sales stayed the same, but we said the ad drove more sales.\n",
    "Type 2 Error: Our sales have increased with the ad, but we said that it didn’t. "
   ]
  },
  {
   "cell_type": "markdown",
   "metadata": {},
   "source": [
    "Ho: On average, there is no difference in salaries between employees in the finance department and employees in the marketing department. \n",
    "Ha: There is a difference in salaries between employees in the finance department and the employees in the marketing department. \n",
    "\n",
    "Ho: There is no difference in number of employees in the finance dept and employees \n",
    "Ha: There is a difference in number of employees in the finance dept and employees"
   ]
  },
  {
   "cell_type": "markdown",
   "metadata": {},
   "source": [
    "# #T Test Exercises\n"
   ]
  },
  {
   "cell_type": "raw",
   "metadata": {},
   "source": [
    "#1.) Ace Realty wants to determine whether the average time it takes to sell homes is different for its two offices. A sample of 40 sales from office #1 revealed a mean of 90 days and a standard deviation of 15 days. A sample of 50 sales from office #2 revealed a mean of 100 days and a standard deviation of 20 days. Use a .05 level of significance."
   ]
  },
  {
   "cell_type": "raw",
   "metadata": {},
   "source": [
    "Ho: There is no difference in sales between office #1 and office #2\n",
    "Ha: There is a difference in sales between office #1 and office #2"
   ]
  },
  {
   "cell_type": "code",
   "execution_count": 3,
   "metadata": {},
   "outputs": [
    {
     "data": {
      "text/plain": [
       "17.956702977389302"
      ]
     },
     "execution_count": 3,
     "metadata": {},
     "output_type": "execute_result"
    }
   ],
   "source": [
    "xbar1 = 90\n",
    "xbar2 = 100\n",
    "\n",
    "n1 = 40\n",
    "n2 = 50\n",
    "\n",
    "s1 = 15\n",
    "s2 = 20\n",
    "\n",
    "deg_free = n1 + n2 - 2\n",
    "\n",
    "s_p = sqrt(((n1-1) * s1**2 +(n2-1) * s2**2)/(deg_free))\n",
    "s_p"
   ]
  },
  {
   "cell_type": "code",
   "execution_count": 4,
   "metadata": {},
   "outputs": [
    {
     "data": {
      "text/plain": [
       "-2.6252287036468456"
      ]
     },
     "execution_count": 4,
     "metadata": {},
     "output_type": "execute_result"
    }
   ],
   "source": [
    "standard_error = se = sqrt(s1**2/n1 + s2**2/n2)\n",
    "\n",
    "t=(xbar1 - xbar2)/ (s_p * sqrt(1/n1 + 1/n2))\n",
    "t"
   ]
  },
  {
   "cell_type": "code",
   "execution_count": 7,
   "metadata": {},
   "outputs": [
    {
     "data": {
      "text/plain": [
       "0.01020985244923939"
      ]
     },
     "execution_count": 7,
     "metadata": {},
     "output_type": "execute_result"
    }
   ],
   "source": [
    "p = stats.t(deg_free).cdf(t)*2\n",
    "p"
   ]
  },
  {
   "cell_type": "code",
   "execution_count": 9,
   "metadata": {},
   "outputs": [
    {
     "name": "stdout",
     "output_type": "stream",
     "text": [
      "t= -2.6252\n",
      "p = 0.0102\n"
     ]
    }
   ],
   "source": [
    "print(f't= {t:.4f}')\n",
    "print(f'p = {p:.4f}')"
   ]
  },
  {
   "cell_type": "code",
   "execution_count": 19,
   "metadata": {},
   "outputs": [],
   "source": [
    "t,p = stats.ttest_ind_from_stats(mean1=90,std1=15, nobs1 = 40, mean2=100, std2 = 20, nobs2=50)"
   ]
  },
  {
   "cell_type": "code",
   "execution_count": 20,
   "metadata": {},
   "outputs": [
    {
     "data": {
      "text/plain": [
       "(-2.6252287036468456, 0.01020985244923939)"
      ]
     },
     "execution_count": 20,
     "metadata": {},
     "output_type": "execute_result"
    }
   ],
   "source": [
    "t,p"
   ]
  },
  {
   "cell_type": "code",
   "execution_count": 21,
   "metadata": {},
   "outputs": [],
   "source": [
    "alpha = .05"
   ]
  },
  {
   "cell_type": "code",
   "execution_count": 25,
   "metadata": {},
   "outputs": [
    {
     "name": "stdout",
     "output_type": "stream",
     "text": [
      "Reject null hypothesis, there is evidence to suggest there is a difference in sales\n"
     ]
    }
   ],
   "source": [
    "if p < alpha:\n",
    "    print(\"Reject null hypothesis, there is evidence to suggest there is a difference in sales\")\n",
    "else: \n",
    "    print(\"Fail to reject null hypothesis\")"
   ]
  },
  {
   "cell_type": "markdown",
   "metadata": {},
   "source": [
    "Load the mpg dataset and use it to answer the following questions:"
   ]
  },
  {
   "cell_type": "code",
   "execution_count": 36,
   "metadata": {},
   "outputs": [],
   "source": [
    "mpg_df = data('mpg')"
   ]
  },
  {
   "cell_type": "code",
   "execution_count": 37,
   "metadata": {},
   "outputs": [
    {
     "data": {
      "text/plain": [
       "[1999, 2008]"
      ]
     },
     "execution_count": 37,
     "metadata": {},
     "output_type": "execute_result"
    }
   ],
   "source": [
    "#Is there a difference in fuel-efficiency in cars from 2008 vs 1999?\n",
    "list(mpg_df['year'].unique())"
   ]
  },
  {
   "cell_type": "raw",
   "metadata": {},
   "source": [
    "Ho: \"There is no difference in fuel efficiency between cars made in 1999 and 2008.\"\n",
    "Ha: \"There is a difference in fuel efficiency between cars made in 1999 and 2008.\""
   ]
  },
  {
   "cell_type": "code",
   "execution_count": null,
   "metadata": {},
   "outputs": [],
   "source": [
    "mpg_df['avg_fuel'] = stats."
   ]
  },
  {
   "cell_type": "code",
   "execution_count": 39,
   "metadata": {},
   "outputs": [],
   "source": [
    "cars_2008 = mpg_df[mpg_df.year==2008]\n",
    "cars_1999 = mpg_df[mpg_df.year==1999]"
   ]
  },
  {
   "cell_type": "code",
   "execution_count": null,
   "metadata": {},
   "outputs": [],
   "source": []
  }
 ],
 "metadata": {
  "kernelspec": {
   "display_name": "Python 3",
   "language": "python",
   "name": "python3"
  },
  "language_info": {
   "codemirror_mode": {
    "name": "ipython",
    "version": 3
   },
   "file_extension": ".py",
   "mimetype": "text/x-python",
   "name": "python",
   "nbconvert_exporter": "python",
   "pygments_lexer": "ipython3",
   "version": "3.8.5"
  }
 },
 "nbformat": 4,
 "nbformat_minor": 4
}
