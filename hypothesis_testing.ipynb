{
 "cells": [
  {
   "cell_type": "raw",
   "metadata": {},
   "source": [
    "For each of the following questions, formulate a null and alternative hypothesis (be as specific as you can be), then give an example of what a true positive, true negative, type I and type II errors would look like. \n",
    "Note that some of the questions are intentionally phrased in a vague way. It is your job to reword these as more precise questions that could be tested."
   ]
  },
  {
   "cell_type": "raw",
   "metadata": {},
   "source": [
    "\n",
    "#1.) Has the network latency gone up since we switched internet service providers?\n",
    "H0: Network latency has stayed the same since we switched providers.\n",
    "Ha: Network latency has gone up since we switched providers.\n",
    "\n",
    "True Positive: We reject the null hypothesis, and network latency has actually increased.\n",
    "\n",
    "True Negative: We fail to reject network latency has stayed the same, and network latency has stayed the same. \n",
    "\t\n",
    "Type 1 Error: Network latency stayed the same, but we said that it has gone up.\n",
    "Type 2 Error: Network latency increased, but we said that it stayed the same. \n"
   ]
  },
  {
   "cell_type": "raw",
   "metadata": {},
   "source": [
    "\n",
    "#2.) Is the website redesign any good?\n",
    "\tH0: The website redesign made no change\n",
    "\tHa: The website redesign is better than the original.\n",
    "\t\n",
    "True Positive: The redesign is better than the original, and it really is.\n",
    "True Negative: The website redesign made no change, and it really didn’t. \n",
    "Type 1 Error: The website redesign made no change, but we said that it is better.\n",
    "Type 2 Error: The website redesign is better, but we said there was no change.\n",
    "\n"
   ]
  },
  {
   "cell_type": "raw",
   "metadata": {},
   "source": [
    "#3.) Is our television ad driving more sales?\n",
    "H0: our sales have remained the same with the ad.\n",
    "Ha: our sales have increased since the ad. \n",
    "True Positive: We say the ad has increased our sales, and it did.\n",
    "True Negative: We say sales haven’t changed, because they haven’t.\n",
    "Type 1 Error: Our sales stayed the same, but we said the ad drove more sales.\n",
    "Type 2 Error: Our sales have increased with the ad, but we said that it didn’t. "
   ]
  }
 ],
 "metadata": {
  "kernelspec": {
   "display_name": "Python 3",
   "language": "python",
   "name": "python3"
  },
  "language_info": {
   "codemirror_mode": {
    "name": "ipython",
    "version": 3
   },
   "file_extension": ".py",
   "mimetype": "text/x-python",
   "name": "python",
   "nbconvert_exporter": "python",
   "pygments_lexer": "ipython3",
   "version": "3.8.5"
  }
 },
 "nbformat": 4,
 "nbformat_minor": 4
}
